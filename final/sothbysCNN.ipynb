{
 "cells": [
  {
   "cell_type": "code",
   "execution_count": 1,
   "id": "least-right",
   "metadata": {},
   "outputs": [],
   "source": [
    "import pandas as pd"
   ]
  },
  {
   "cell_type": "code",
   "execution_count": 22,
   "id": "musical-split",
   "metadata": {},
   "outputs": [],
   "source": [
    "sothebysUS = pd.read_pickle(\"./sothebysUS.pkl\")\n",
    "sothebysUS[\"Image\"] = sothebysUS[\"Collection\"] + \"_\" + sothebysUS[\"LotNumber\"]"
   ]
  },
  {
   "cell_type": "code",
   "execution_count": 23,
   "id": "professional-pattern",
   "metadata": {},
   "outputs": [
    {
     "data": {
      "text/html": [
       "<div>\n",
       "<style scoped>\n",
       "    .dataframe tbody tr th:only-of-type {\n",
       "        vertical-align: middle;\n",
       "    }\n",
       "\n",
       "    .dataframe tbody tr th {\n",
       "        vertical-align: top;\n",
       "    }\n",
       "\n",
       "    .dataframe thead th {\n",
       "        text-align: right;\n",
       "    }\n",
       "</style>\n",
       "<table border=\"1\" class=\"dataframe\">\n",
       "  <thead>\n",
       "    <tr style=\"text-align: right;\">\n",
       "      <th></th>\n",
       "      <th>Unnamed: 0</th>\n",
       "      <th>Origin</th>\n",
       "      <th>CurrencyType</th>\n",
       "      <th>AuctionDate</th>\n",
       "      <th>LotNumber</th>\n",
       "      <th>SoldPrice</th>\n",
       "      <th>Collection</th>\n",
       "      <th>ItemTitle</th>\n",
       "      <th>EstPriceInUSD</th>\n",
       "      <th>AllText</th>\n",
       "      <th>LogSoldPrice</th>\n",
       "      <th>PriceBin</th>\n",
       "      <th>input_ids</th>\n",
       "      <th>attention_mask</th>\n",
       "      <th>PriceBin_OneHot</th>\n",
       "      <th>Image</th>\n",
       "    </tr>\n",
       "  </thead>\n",
       "  <tbody>\n",
       "    <tr>\n",
       "      <th>0</th>\n",
       "      <td>1</td>\n",
       "      <td>Louis Hayet</td>\n",
       "      <td>USD</td>\n",
       "      <td>2015-01-30T10:00:00.935-0500</td>\n",
       "      <td>582</td>\n",
       "      <td>28125</td>\n",
       "      <td>N09303</td>\n",
       "      <td>LE CONCERT, TOGETHER WITH THREE OTHER WORKS</td>\n",
       "      <td>28125</td>\n",
       "      <td>gouache on paper moun...</td>\n",
       "      <td>10.244414</td>\n",
       "      <td>1</td>\n",
       "      <td>[101, 2175, 6692, 5403, 2006, 3259, 5614, 2006...</td>\n",
       "      <td>[1, 1, 1, 1, 1, 1, 1, 1, 1, 1, 1, 1, 1, 1, 1, ...</td>\n",
       "      <td>[0.0, 1.0, 0.0]</td>\n",
       "      <td>N09303_582</td>\n",
       "    </tr>\n",
       "    <tr>\n",
       "      <th>1</th>\n",
       "      <td>2</td>\n",
       "      <td>A light chestnut velvet-upholstered Knole sofa...</td>\n",
       "      <td>USD</td>\n",
       "      <td>2015-10-17T10:00:00.852-0400</td>\n",
       "      <td>807</td>\n",
       "      <td>5000</td>\n",
       "      <td>N09408</td>\n",
       "      <td>NaN</td>\n",
       "      <td>5000</td>\n",
       "      <td>height 45 1/2  in.; l...</td>\n",
       "      <td>8.517193</td>\n",
       "      <td>0</td>\n",
       "      <td>[101, 4578, 3429, 1015, 1013, 1016, 1999, 1012...</td>\n",
       "      <td>[1, 1, 1, 1, 1, 1, 1, 1, 1, 1, 1, 1, 1, 1, 1, ...</td>\n",
       "      <td>[1.0, 0.0, 0.0]</td>\n",
       "      <td>N09408_807</td>\n",
       "    </tr>\n",
       "    <tr>\n",
       "      <th>2</th>\n",
       "      <td>3</td>\n",
       "      <td>Chokwe Mask, Angola</td>\n",
       "      <td>USD</td>\n",
       "      <td>2015-04-20T10:00:00.589-0400</td>\n",
       "      <td>167</td>\n",
       "      <td>6000</td>\n",
       "      <td>N09333</td>\n",
       "      <td>NaN</td>\n",
       "      <td>6000</td>\n",
       "      <td>height: 9 3/8  in (23...</td>\n",
       "      <td>8.699515</td>\n",
       "      <td>0</td>\n",
       "      <td>[101, 4578, 1024, 1023, 1017, 1013, 1022, 1999...</td>\n",
       "      <td>[1, 1, 1, 1, 1, 1, 1, 1, 1, 1, 1, 1, 1, 1, 1, ...</td>\n",
       "      <td>[1.0, 0.0, 0.0]</td>\n",
       "      <td>N09333_167</td>\n",
       "    </tr>\n",
       "    <tr>\n",
       "      <th>3</th>\n",
       "      <td>4</td>\n",
       "      <td>Makonde Helmet Mask, Mozambique or Tanzania</td>\n",
       "      <td>USD</td>\n",
       "      <td>2015-04-20T10:00:00.589-0400</td>\n",
       "      <td>166</td>\n",
       "      <td>8125</td>\n",
       "      <td>N09333</td>\n",
       "      <td>NaN</td>\n",
       "      <td>8125</td>\n",
       "      <td>height: 9 3/4  in (24...</td>\n",
       "      <td>9.002701</td>\n",
       "      <td>0</td>\n",
       "      <td>[101, 4578, 1024, 1023, 1017, 1013, 1018, 1999...</td>\n",
       "      <td>[1, 1, 1, 1, 1, 1, 1, 1, 1, 1, 1, 1, 1, 1, 1, ...</td>\n",
       "      <td>[1.0, 0.0, 0.0]</td>\n",
       "      <td>N09333_166</td>\n",
       "    </tr>\n",
       "    <tr>\n",
       "      <th>4</th>\n",
       "      <td>5</td>\n",
       "      <td>William Trost Richards</td>\n",
       "      <td>USD</td>\n",
       "      <td>2015-01-23T14:00:00.422-0500</td>\n",
       "      <td>272</td>\n",
       "      <td>12500</td>\n",
       "      <td>N09305</td>\n",
       "      <td>THE VALLEY STREAM</td>\n",
       "      <td>12500</td>\n",
       "      <td>signed  w.t. richards...</td>\n",
       "      <td>9.433484</td>\n",
       "      <td>1</td>\n",
       "      <td>[101, 2772, 1059, 1012, 1056, 1012, 9712, 1006...</td>\n",
       "      <td>[1, 1, 1, 1, 1, 1, 1, 1, 1, 1, 1, 1, 1, 1, 1, ...</td>\n",
       "      <td>[0.0, 1.0, 0.0]</td>\n",
       "      <td>N09305_272</td>\n",
       "    </tr>\n",
       "    <tr>\n",
       "      <th>...</th>\n",
       "      <td>...</td>\n",
       "      <td>...</td>\n",
       "      <td>...</td>\n",
       "      <td>...</td>\n",
       "      <td>...</td>\n",
       "      <td>...</td>\n",
       "      <td>...</td>\n",
       "      <td>...</td>\n",
       "      <td>...</td>\n",
       "      <td>...</td>\n",
       "      <td>...</td>\n",
       "      <td>...</td>\n",
       "      <td>...</td>\n",
       "      <td>...</td>\n",
       "      <td>...</td>\n",
       "      <td>...</td>\n",
       "    </tr>\n",
       "    <tr>\n",
       "      <th>51644</th>\n",
       "      <td>140766</td>\n",
       "      <td>Frederick Marriott</td>\n",
       "      <td>USD</td>\n",
       "      <td>2009-03-18T11:00:00.000-0400</td>\n",
       "      <td>12</td>\n",
       "      <td>15000</td>\n",
       "      <td>D09003</td>\n",
       "      <td>ENGLISH</td>\n",
       "      <td>15000</td>\n",
       "      <td>signed  f. marriott. ...</td>\n",
       "      <td>9.615805</td>\n",
       "      <td>1</td>\n",
       "      <td>[101, 2772, 1042, 1012, 26490, 1012, 1998, 605...</td>\n",
       "      <td>[1, 1, 1, 1, 1, 1, 1, 1, 1, 1, 1, 1, 1, 1, 1, ...</td>\n",
       "      <td>[0.0, 1.0, 0.0]</td>\n",
       "      <td>D09003_12</td>\n",
       "    </tr>\n",
       "    <tr>\n",
       "      <th>51645</th>\n",
       "      <td>140767</td>\n",
       "      <td>Fabio Fabbi</td>\n",
       "      <td>USD</td>\n",
       "      <td>2009-03-18T11:00:00.000-0400</td>\n",
       "      <td>11</td>\n",
       "      <td>302500</td>\n",
       "      <td>D09003</td>\n",
       "      <td>ITALIAN</td>\n",
       "      <td>302500</td>\n",
       "      <td>signed  fabio fabbi  ...</td>\n",
       "      <td>12.619837</td>\n",
       "      <td>2</td>\n",
       "      <td>[101, 2772, 25616, 6904, 10322, 2072, 1006, 28...</td>\n",
       "      <td>[1, 1, 1, 1, 1, 1, 1, 1, 1, 1, 1, 1, 1, 1, 1, ...</td>\n",
       "      <td>[0.0, 0.0, 1.0]</td>\n",
       "      <td>D09003_11</td>\n",
       "    </tr>\n",
       "    <tr>\n",
       "      <th>51646</th>\n",
       "      <td>140768</td>\n",
       "      <td>Fabio Fabbi</td>\n",
       "      <td>USD</td>\n",
       "      <td>2009-03-18T11:00:00.000-0400</td>\n",
       "      <td>10</td>\n",
       "      <td>80500</td>\n",
       "      <td>D09003</td>\n",
       "      <td>ITALIAN</td>\n",
       "      <td>80500</td>\n",
       "      <td>signed  f. fabbi  (lo...</td>\n",
       "      <td>11.296012</td>\n",
       "      <td>1</td>\n",
       "      <td>[101, 2772, 1042, 1012, 6904, 10322, 2072, 100...</td>\n",
       "      <td>[1, 1, 1, 1, 1, 1, 1, 1, 1, 1, 1, 1, 1, 1, 1, ...</td>\n",
       "      <td>[0.0, 1.0, 0.0]</td>\n",
       "      <td>D09003_10</td>\n",
       "    </tr>\n",
       "    <tr>\n",
       "      <th>51647</th>\n",
       "      <td>140769</td>\n",
       "      <td>Numa Marzocchi de Belluci</td>\n",
       "      <td>USD</td>\n",
       "      <td>2009-03-18T11:00:00.000-0400</td>\n",
       "      <td>1</td>\n",
       "      <td>122500</td>\n",
       "      <td>D09003</td>\n",
       "      <td>FRENCH</td>\n",
       "      <td>122500</td>\n",
       "      <td>signed  n. marzocchi ...</td>\n",
       "      <td>11.715866</td>\n",
       "      <td>2</td>\n",
       "      <td>[101, 2772, 1050, 1012, 9388, 6844, 25955, 199...</td>\n",
       "      <td>[1, 1, 1, 1, 1, 1, 1, 1, 1, 1, 1, 1, 1, 1, 1, ...</td>\n",
       "      <td>[0.0, 0.0, 1.0]</td>\n",
       "      <td>D09003_1</td>\n",
       "    </tr>\n",
       "    <tr>\n",
       "      <th>51648</th>\n",
       "      <td>150263</td>\n",
       "      <td>Clyfford Still</td>\n",
       "      <td>USD</td>\n",
       "      <td>2011-11-09T19:00:00.100-0500</td>\n",
       "      <td>11</td>\n",
       "      <td>61682500</td>\n",
       "      <td>N08791</td>\n",
       "      <td>1949-A-NO . 1</td>\n",
       "      <td>61682500</td>\n",
       "      <td>signed and dated  cly...</td>\n",
       "      <td>17.937511</td>\n",
       "      <td>2</td>\n",
       "      <td>[101, 2772, 1998, 6052, 18856, 2100, 4246, 855...</td>\n",
       "      <td>[1, 1, 1, 1, 1, 1, 1, 1, 1, 1, 1, 1, 1, 1, 1, ...</td>\n",
       "      <td>[0.0, 0.0, 1.0]</td>\n",
       "      <td>N08791_11</td>\n",
       "    </tr>\n",
       "  </tbody>\n",
       "</table>\n",
       "<p>51649 rows × 16 columns</p>\n",
       "</div>"
      ],
      "text/plain": [
       "       Unnamed: 0                                             Origin  \\\n",
       "0               1                                        Louis Hayet   \n",
       "1               2  A light chestnut velvet-upholstered Knole sofa...   \n",
       "2               3                                Chokwe Mask, Angola   \n",
       "3               4        Makonde Helmet Mask, Mozambique or Tanzania   \n",
       "4               5                             William Trost Richards   \n",
       "...           ...                                                ...   \n",
       "51644      140766                                 Frederick Marriott   \n",
       "51645      140767                                        Fabio Fabbi   \n",
       "51646      140768                                        Fabio Fabbi   \n",
       "51647      140769                          Numa Marzocchi de Belluci   \n",
       "51648      150263                                     Clyfford Still   \n",
       "\n",
       "      CurrencyType                   AuctionDate LotNumber  SoldPrice  \\\n",
       "0              USD  2015-01-30T10:00:00.935-0500       582      28125   \n",
       "1              USD  2015-10-17T10:00:00.852-0400       807       5000   \n",
       "2              USD  2015-04-20T10:00:00.589-0400       167       6000   \n",
       "3              USD  2015-04-20T10:00:00.589-0400       166       8125   \n",
       "4              USD  2015-01-23T14:00:00.422-0500       272      12500   \n",
       "...            ...                           ...       ...        ...   \n",
       "51644          USD  2009-03-18T11:00:00.000-0400        12      15000   \n",
       "51645          USD  2009-03-18T11:00:00.000-0400        11     302500   \n",
       "51646          USD  2009-03-18T11:00:00.000-0400        10      80500   \n",
       "51647          USD  2009-03-18T11:00:00.000-0400         1     122500   \n",
       "51648          USD  2011-11-09T19:00:00.100-0500        11   61682500   \n",
       "\n",
       "      Collection                                    ItemTitle  EstPriceInUSD  \\\n",
       "0         N09303  LE CONCERT, TOGETHER WITH THREE OTHER WORKS          28125   \n",
       "1         N09408                                          NaN           5000   \n",
       "2         N09333                                          NaN           6000   \n",
       "3         N09333                                          NaN           8125   \n",
       "4         N09305                            THE VALLEY STREAM          12500   \n",
       "...          ...                                          ...            ...   \n",
       "51644     D09003                                      ENGLISH          15000   \n",
       "51645     D09003                                      ITALIAN         302500   \n",
       "51646     D09003                                      ITALIAN          80500   \n",
       "51647     D09003                                       FRENCH         122500   \n",
       "51648     N08791                                1949-A-NO . 1       61682500   \n",
       "\n",
       "                                                 AllText  LogSoldPrice  \\\n",
       "0                               gouache on paper moun...     10.244414   \n",
       "1                               height 45 1/2  in.; l...      8.517193   \n",
       "2                               height: 9 3/8  in (23...      8.699515   \n",
       "3                               height: 9 3/4  in (24...      9.002701   \n",
       "4                               signed  w.t. richards...      9.433484   \n",
       "...                                                  ...           ...   \n",
       "51644                           signed  f. marriott. ...      9.615805   \n",
       "51645                           signed  fabio fabbi  ...     12.619837   \n",
       "51646                           signed  f. fabbi  (lo...     11.296012   \n",
       "51647                           signed  n. marzocchi ...     11.715866   \n",
       "51648                           signed and dated  cly...     17.937511   \n",
       "\n",
       "       PriceBin                                          input_ids  \\\n",
       "0             1  [101, 2175, 6692, 5403, 2006, 3259, 5614, 2006...   \n",
       "1             0  [101, 4578, 3429, 1015, 1013, 1016, 1999, 1012...   \n",
       "2             0  [101, 4578, 1024, 1023, 1017, 1013, 1022, 1999...   \n",
       "3             0  [101, 4578, 1024, 1023, 1017, 1013, 1018, 1999...   \n",
       "4             1  [101, 2772, 1059, 1012, 1056, 1012, 9712, 1006...   \n",
       "...         ...                                                ...   \n",
       "51644         1  [101, 2772, 1042, 1012, 26490, 1012, 1998, 605...   \n",
       "51645         2  [101, 2772, 25616, 6904, 10322, 2072, 1006, 28...   \n",
       "51646         1  [101, 2772, 1042, 1012, 6904, 10322, 2072, 100...   \n",
       "51647         2  [101, 2772, 1050, 1012, 9388, 6844, 25955, 199...   \n",
       "51648         2  [101, 2772, 1998, 6052, 18856, 2100, 4246, 855...   \n",
       "\n",
       "                                          attention_mask  PriceBin_OneHot  \\\n",
       "0      [1, 1, 1, 1, 1, 1, 1, 1, 1, 1, 1, 1, 1, 1, 1, ...  [0.0, 1.0, 0.0]   \n",
       "1      [1, 1, 1, 1, 1, 1, 1, 1, 1, 1, 1, 1, 1, 1, 1, ...  [1.0, 0.0, 0.0]   \n",
       "2      [1, 1, 1, 1, 1, 1, 1, 1, 1, 1, 1, 1, 1, 1, 1, ...  [1.0, 0.0, 0.0]   \n",
       "3      [1, 1, 1, 1, 1, 1, 1, 1, 1, 1, 1, 1, 1, 1, 1, ...  [1.0, 0.0, 0.0]   \n",
       "4      [1, 1, 1, 1, 1, 1, 1, 1, 1, 1, 1, 1, 1, 1, 1, ...  [0.0, 1.0, 0.0]   \n",
       "...                                                  ...              ...   \n",
       "51644  [1, 1, 1, 1, 1, 1, 1, 1, 1, 1, 1, 1, 1, 1, 1, ...  [0.0, 1.0, 0.0]   \n",
       "51645  [1, 1, 1, 1, 1, 1, 1, 1, 1, 1, 1, 1, 1, 1, 1, ...  [0.0, 0.0, 1.0]   \n",
       "51646  [1, 1, 1, 1, 1, 1, 1, 1, 1, 1, 1, 1, 1, 1, 1, ...  [0.0, 1.0, 0.0]   \n",
       "51647  [1, 1, 1, 1, 1, 1, 1, 1, 1, 1, 1, 1, 1, 1, 1, ...  [0.0, 0.0, 1.0]   \n",
       "51648  [1, 1, 1, 1, 1, 1, 1, 1, 1, 1, 1, 1, 1, 1, 1, ...  [0.0, 0.0, 1.0]   \n",
       "\n",
       "            Image  \n",
       "0      N09303_582  \n",
       "1      N09408_807  \n",
       "2      N09333_167  \n",
       "3      N09333_166  \n",
       "4      N09305_272  \n",
       "...           ...  \n",
       "51644   D09003_12  \n",
       "51645   D09003_11  \n",
       "51646   D09003_10  \n",
       "51647    D09003_1  \n",
       "51648   N08791_11  \n",
       "\n",
       "[51649 rows x 16 columns]"
      ]
     },
     "execution_count": 23,
     "metadata": {},
     "output_type": "execute_result"
    }
   ],
   "source": [
    "sothebysUS"
   ]
  },
  {
   "cell_type": "code",
   "execution_count": 38,
   "id": "dental-buddy",
   "metadata": {},
   "outputs": [],
   "source": [
    "from PIL import Image\n",
    "from keras.preprocessing.image import load_img\n",
    "from keras.preprocessing.image import img_to_array\n",
    "from keras.preprocessing.image import array_to_img"
   ]
  },
  {
   "cell_type": "code",
   "execution_count": 26,
   "id": "heard-danish",
   "metadata": {},
   "outputs": [],
   "source": [
    "imgSize = (128,128)\n",
    "savepath = \"./sothebysUSImg/\""
   ]
  },
  {
   "cell_type": "code",
   "execution_count": 18,
   "id": "intense-ceiling",
   "metadata": {},
   "outputs": [],
   "source": [
    "# filepath = \"/media/binli/HGST/Sothebys-Downloaded-Data-Legacy/allImages/\"\n",
    "# savepath = \"./sothebysUSImg/\"\n",
    "# unfound = []\n",
    "\n",
    "\n",
    "# for i, row in sothebysUS.iterrows():\n",
    "#     try:\n",
    "#         with Image.open(filepath+row[\"Image\"] + \".jpg\") as img: \n",
    "#             img = img.resize((128,128))\n",
    "#             img.save(savepath + row[\"Image\"] + \".jpg\")\n",
    "# #             img.show()\n",
    "#     except:\n",
    "#         unfound.append(row)\n",
    "#         pass\n",
    "    "
   ]
  },
  {
   "cell_type": "code",
   "execution_count": 34,
   "id": "directed-removal",
   "metadata": {},
   "outputs": [],
   "source": [
    "sothebysUS[\"RawImg\"] = sothebysUS[\"Image\"].apply(lambda x: img_to_array(load_img(savepath+x+\".jpg\", target_size=imgSize)))"
   ]
  },
  {
   "cell_type": "code",
   "execution_count": null,
   "id": "personalized-omaha",
   "metadata": {},
   "outputs": [],
   "source": []
  },
  {
   "cell_type": "markdown",
   "id": "waiting-arizona",
   "metadata": {},
   "source": [
    "# Data processing, train test split"
   ]
  },
  {
   "cell_type": "code",
   "execution_count": 61,
   "id": "european-smile",
   "metadata": {},
   "outputs": [
    {
     "name": "stdout",
     "output_type": "stream",
     "text": [
      "train size is 41836\n",
      "validation size is 4648\n",
      "test size is 5165\n"
     ]
    }
   ],
   "source": [
    "import torch # pip install torch\n",
    "from torch.utils.data import TensorDataset, DataLoader, RandomSampler, SequentialSampler\n",
    "from sklearn.model_selection import train_test_split\n",
    "from transformers import BertTokenizer, BertConfig # pip install tranformers==2.4.1\n",
    "from transformers import AdamW, BertForSequenceClassification\n",
    "from tqdm import tqdm, trange\n",
    "import pandas as pd\n",
    "import io\n",
    "import numpy as np\n",
    "import matplotlib.pyplot as plt\n",
    "import tensorflow as tf\n",
    "%matplotlib inline\n",
    "\n",
    "import os\n",
    "os.environ['KERAS_BACKEND'] = 'tensorflow'\n",
    "\n",
    "# Stratified train-test split\n",
    "from sklearn.model_selection import StratifiedShuffleSplit\n",
    "strata = sothebysUS[\"PriceBin\"]\n",
    "sss = StratifiedShuffleSplit(n_splits=1, test_size=0.1, random_state=0)\n",
    "\n",
    "for trainInd, testInd in sss.split(sothebysUS, strata):\n",
    "    train = sothebysUS.iloc[trainInd,:]\n",
    "    test = sothebysUS.iloc[testInd,:]\n",
    "    \n",
    "VAL_SIZE = int(len(train)*0.1)\n",
    "print(f\"train size is {len(train) - VAL_SIZE}\")\n",
    "print(f\"validation size is {VAL_SIZE}\")\n",
    "print(f\"test size is {len(test)}\")\n",
    "\n",
    "# # Use ordinal data label\n",
    "# trainX = np.asarray(train[\"RawImg\"][VAL_SIZE:].tolist())\n",
    "# trainY = np.asarray(train[\"PriceBin\"][VAL_SIZE:].tolist()).reshape(-1)\n",
    "\n",
    "# valX = np.asarray(train[\"RawImg\"][:VAL_SIZE].tolist())\n",
    "# valY = np.asarray(train[\"PriceBin\"][:VAL_SIZE].tolist()).reshape(-1)\n",
    "\n",
    "# testX = np.asarray(test[\"RawImg\"].tolist())\n",
    "# testY = np.asarray(test[\"PriceBin\"].tolist()).reshape(-1)\n",
    "\n",
    "# Use one hot encode label\n",
    "trainX = np.asarray(train[\"RawImg\"][VAL_SIZE:].tolist())\n",
    "trainY = np.asarray(train[\"PriceBin_OneHot\"][VAL_SIZE:].tolist())\n",
    "\n",
    "valX = np.asarray(train[\"RawImg\"][:VAL_SIZE].tolist())\n",
    "valY = np.asarray(train[\"PriceBin_OneHot\"][:VAL_SIZE].tolist())\n",
    "\n",
    "testX = np.asarray(test[\"RawImg\"].tolist())\n",
    "testY = np.asarray(test[\"PriceBin_OneHot\"].tolist())\n",
    "\n",
    "# sothebysUS.to_pickle(\"./sothebysUS.pkl\")"
   ]
  },
  {
   "cell_type": "code",
   "execution_count": 98,
   "id": "prostate-grove",
   "metadata": {},
   "outputs": [],
   "source": []
  },
  {
   "cell_type": "code",
   "execution_count": 99,
   "id": "treated-confidence",
   "metadata": {},
   "outputs": [
    {
     "data": {
      "text/plain": [
       "array([0, 0, 1])"
      ]
     },
     "execution_count": 99,
     "metadata": {},
     "output_type": "execute_result"
    }
   ],
   "source": [
    "comparePriceBin(trainY[0], trainY[2])"
   ]
  },
  {
   "cell_type": "code",
   "execution_count": 112,
   "id": "running-schema",
   "metadata": {},
   "outputs": [],
   "source": [
    "[a, b] = np.empty((3, 2, 128,128))[0]"
   ]
  },
  {
   "cell_type": "code",
   "execution_count": 113,
   "id": "differential-newport",
   "metadata": {},
   "outputs": [
    {
     "data": {
      "text/plain": [
       "(128, 128)"
      ]
     },
     "execution_count": 113,
     "metadata": {},
     "output_type": "execute_result"
    }
   ],
   "source": [
    "a.shape"
   ]
  },
  {
   "cell_type": "code",
   "execution_count": 62,
   "id": "greatest-aside",
   "metadata": {},
   "outputs": [],
   "source": [
    "# data packing into TF dataset\n",
    "train_dataset = tf.data.Dataset.from_tensor_slices((trainX, trainY))\n",
    "test_dataset = tf.data.Dataset.from_tensor_slices((testX, testY))\n",
    "val_dataset = tf.data.Dataset.from_tensor_slices((valX, valY))\n",
    "BATCH_SIZE = 32\n",
    "SHUFFLE_BUFFER_SIZE = 100\n",
    "\n",
    "train_dataset = train_dataset.shuffle(SHUFFLE_BUFFER_SIZE).batch(BATCH_SIZE)\n",
    "test_dataset = test_dataset.batch(BATCH_SIZE)\n",
    "val_dataset = val_dataset.batch(BATCH_SIZE)"
   ]
  },
  {
   "cell_type": "markdown",
   "id": "solar-butterfly",
   "metadata": {},
   "source": [
    "# Model specification"
   ]
  },
  {
   "cell_type": "code",
   "execution_count": 76,
   "id": "existing-helping",
   "metadata": {},
   "outputs": [],
   "source": [
    "import keras\n",
    "base_model = keras.applications.ResNet50(\n",
    "    weights='imagenet',  # Load weights pre-trained on ImageNet.\n",
    "    input_shape=(128, 128, 3),\n",
    "    include_top=False)  # Do not include the ImageNet classifier at the top.\n",
    "\n",
    "base_model.trainable = False # freeze base model\n",
    "\n",
    "inputs = keras.Input(shape=(128, 128, 3))\n",
    "\n",
    "# Pre-trained Xception weights requires that input be normalized\n",
    "# from (0, 255) to a range (-1., +1.), the normalization layer\n",
    "# does the following, outputs = (inputs - mean) / sqrt(var)\n",
    "norm_layer = keras.layers.experimental.preprocessing.Normalization()\n",
    "mean = np.array([127.5] * 3)\n",
    "var = mean ** 2\n",
    "# Scale inputs to [-1, +1]\n",
    "x = norm_layer(inputs)\n",
    "norm_layer.set_weights([mean, var])\n",
    "\n",
    "\n",
    "# The base model contains batchnorm layers. We want to keep them in inference mode\n",
    "# when we unfreeze the base model for fine-tuning, so we make sure that the\n",
    "# base_model is running in inference mode here.\n",
    "x = base_model(x, training=False)\n",
    "x = keras.layers.GlobalAveragePooling2D()(x)\n",
    "x = keras.layers.Dropout(0.2)(x)  # Regularize with dropout\n",
    "outputs = keras.layers.Dense(3)(x)\n",
    "model = keras.Model(inputs, outputs)"
   ]
  },
  {
   "cell_type": "code",
   "execution_count": 77,
   "id": "tough-opportunity",
   "metadata": {},
   "outputs": [
    {
     "name": "stdout",
     "output_type": "stream",
     "text": [
      "Model: \"model_5\"\n",
      "_________________________________________________________________\n",
      "Layer (type)                 Output Shape              Param #   \n",
      "=================================================================\n",
      "input_12 (InputLayer)        [(None, 128, 128, 3)]     0         \n",
      "_________________________________________________________________\n",
      "normalization_3 (Normalizati (None, 128, 128, 3)       7         \n",
      "_________________________________________________________________\n",
      "resnet50 (Model)             (None, 4, 4, 2048)        23587712  \n",
      "_________________________________________________________________\n",
      "global_average_pooling2d_5 ( (None, 2048)              0         \n",
      "_________________________________________________________________\n",
      "dropout_3 (Dropout)          (None, 2048)              0         \n",
      "_________________________________________________________________\n",
      "dense_5 (Dense)              (None, 3)                 6147      \n",
      "=================================================================\n",
      "Total params: 23,593,866\n",
      "Trainable params: 6,147\n",
      "Non-trainable params: 23,587,719\n",
      "_________________________________________________________________\n"
     ]
    }
   ],
   "source": [
    "model.summary()"
   ]
  },
  {
   "cell_type": "code",
   "execution_count": 78,
   "id": "acquired-wages",
   "metadata": {},
   "outputs": [],
   "source": [
    "model.compile(\n",
    "    optimizer=keras.optimizers.Adam(),\n",
    "    loss=keras.losses.CategoricalCrossentropy(from_logits=True),\n",
    "    metrics=['categorical_accuracy'],\n",
    ")"
   ]
  },
  {
   "cell_type": "code",
   "execution_count": 84,
   "id": "excessive-comparative",
   "metadata": {},
   "outputs": [
    {
     "name": "stdout",
     "output_type": "stream",
     "text": [
      "Epoch 1/20\n",
      "1308/1308 [==============================] - 47s 36ms/step - loss: 0.9706 - categorical_accuracy: 0.5004 - val_loss: 0.9996 - val_categorical_accuracy: 0.4778\n",
      "Epoch 2/20\n",
      "1308/1308 [==============================] - 49s 37ms/step - loss: 0.9706 - categorical_accuracy: 0.4994 - val_loss: 0.9964 - val_categorical_accuracy: 0.4839\n",
      "Epoch 3/20\n",
      "1308/1308 [==============================] - 49s 38ms/step - loss: 0.9703 - categorical_accuracy: 0.4997 - val_loss: 1.0033 - val_categorical_accuracy: 0.4748\n",
      "Epoch 4/20\n",
      "1308/1308 [==============================] - 49s 38ms/step - loss: 0.9690 - categorical_accuracy: 0.5011 - val_loss: 0.9988 - val_categorical_accuracy: 0.4755\n",
      "Epoch 5/20\n",
      "1308/1308 [==============================] - 49s 38ms/step - loss: 0.9702 - categorical_accuracy: 0.5020 - val_loss: 0.9985 - val_categorical_accuracy: 0.4830\n",
      "Epoch 6/20\n",
      "1308/1308 [==============================] - 49s 38ms/step - loss: 0.9703 - categorical_accuracy: 0.5000 - val_loss: 1.0046 - val_categorical_accuracy: 0.4682\n",
      "Epoch 7/20\n",
      "1308/1308 [==============================] - 49s 38ms/step - loss: 0.9697 - categorical_accuracy: 0.5011 - val_loss: 0.9984 - val_categorical_accuracy: 0.4800\n",
      "Epoch 8/20\n",
      "1308/1308 [==============================] - 50s 38ms/step - loss: 0.9676 - categorical_accuracy: 0.5039 - val_loss: 1.0009 - val_categorical_accuracy: 0.4817\n",
      "Epoch 9/20\n",
      "1308/1308 [==============================] - 50s 38ms/step - loss: 0.9687 - categorical_accuracy: 0.5024 - val_loss: 0.9983 - val_categorical_accuracy: 0.4918\n",
      "Epoch 10/20\n",
      "1308/1308 [==============================] - 48s 37ms/step - loss: 0.9690 - categorical_accuracy: 0.5005 - val_loss: 1.0033 - val_categorical_accuracy: 0.4785\n",
      "Epoch 11/20\n",
      "1308/1308 [==============================] - 47s 36ms/step - loss: 0.9690 - categorical_accuracy: 0.5024 - val_loss: 0.9988 - val_categorical_accuracy: 0.4828\n",
      "Epoch 12/20\n",
      "1308/1308 [==============================] - 47s 36ms/step - loss: 0.9681 - categorical_accuracy: 0.5026 - val_loss: 1.0015 - val_categorical_accuracy: 0.4884\n",
      "Epoch 13/20\n",
      "1308/1308 [==============================] - 46s 35ms/step - loss: 0.9678 - categorical_accuracy: 0.5028 - val_loss: 0.9994 - val_categorical_accuracy: 0.4821\n",
      "Epoch 14/20\n",
      "1308/1308 [==============================] - 47s 36ms/step - loss: 0.9669 - categorical_accuracy: 0.5042 - val_loss: 1.0004 - val_categorical_accuracy: 0.4832\n",
      "Epoch 15/20\n",
      "1308/1308 [==============================] - 47s 36ms/step - loss: 0.9678 - categorical_accuracy: 0.5020 - val_loss: 1.0041 - val_categorical_accuracy: 0.4753\n",
      "Epoch 16/20\n",
      "1308/1308 [==============================] - 47s 36ms/step - loss: 0.9658 - categorical_accuracy: 0.5029 - val_loss: 1.0033 - val_categorical_accuracy: 0.4884\n",
      "Epoch 17/20\n",
      "1308/1308 [==============================] - 47s 36ms/step - loss: 0.9662 - categorical_accuracy: 0.5050 - val_loss: 1.0032 - val_categorical_accuracy: 0.4796\n",
      "Epoch 18/20\n",
      "1308/1308 [==============================] - 47s 36ms/step - loss: 0.9669 - categorical_accuracy: 0.5025 - val_loss: 1.0029 - val_categorical_accuracy: 0.4815\n",
      "Epoch 19/20\n",
      "1308/1308 [==============================] - 47s 36ms/step - loss: 0.9661 - categorical_accuracy: 0.5042 - val_loss: 1.0045 - val_categorical_accuracy: 0.4761\n",
      "Epoch 20/20\n",
      "1308/1308 [==============================] - 46s 36ms/step - loss: 0.9667 - categorical_accuracy: 0.5026 - val_loss: 1.0056 - val_categorical_accuracy: 0.4776\n"
     ]
    }
   ],
   "source": [
    "epochs = 20\n",
    "layerTrainHist = model.fit(train_dataset, epochs=epochs, validation_data=val_dataset)"
   ]
  },
  {
   "cell_type": "code",
   "execution_count": 85,
   "id": "correct-gossip",
   "metadata": {},
   "outputs": [
    {
     "data": {
      "image/png": "[encoded data removed]",
      "text/plain": [
       "<Figure size 432x288 with 1 Axes>"
      ]
     },
     "metadata": {
      "needs_background": "light"
     },
     "output_type": "display_data"
    }
   ],
   "source": [
    "plt.plot(layerTrainHist.history['loss'])\n",
    "plt.plot(layerTrainHist.history['val_loss'])\n",
    "plt.title('model loss')\n",
    "plt.ylabel('loss')\n",
    "plt.xlabel('epoch')\n",
    "plt.legend(['train', 'val'], loc='upper left')\n",
    "plt.show()"
   ]
  },
  {
   "cell_type": "code",
   "execution_count": 82,
   "id": "instant-consent",
   "metadata": {},
   "outputs": [
    {
     "data": {
      "image/png": "[encoded data removed]",
      "text/plain": [
       "<Figure size 432x288 with 1 Axes>"
      ]
     },
     "metadata": {
      "needs_background": "light"
     },
     "output_type": "display_data"
    }
   ],
   "source": [
    "plt.plot(layerTrainHist.history['categorical_accuracy'])\n",
    "plt.plot(layerTrainHist.history['val_categorical_accuracy'])\n",
    "plt.title('model accuracy')\n",
    "plt.ylabel('acc')\n",
    "plt.xlabel('epoch')\n",
    "plt.legend(['train', 'val'], loc='upper left')\n",
    "plt.show()"
   ]
  },
  {
   "cell_type": "code",
   "execution_count": 87,
   "id": "facial-fundamental",
   "metadata": {},
   "outputs": [
    {
     "name": "stdout",
     "output_type": "stream",
     "text": [
      "Model: \"model_5\"\n",
      "_________________________________________________________________\n",
      "Layer (type)                 Output Shape              Param #   \n",
      "=================================================================\n",
      "input_12 (InputLayer)        [(None, 128, 128, 3)]     0         \n",
      "_________________________________________________________________\n",
      "normalization_3 (Normalizati (None, 128, 128, 3)       7         \n",
      "_________________________________________________________________\n",
      "resnet50 (Model)             (None, 4, 4, 2048)        23587712  \n",
      "_________________________________________________________________\n",
      "global_average_pooling2d_5 ( (None, 2048)              0         \n",
      "_________________________________________________________________\n",
      "dropout_3 (Dropout)          (None, 2048)              0         \n",
      "_________________________________________________________________\n",
      "dense_5 (Dense)              (None, 3)                 6147      \n",
      "=================================================================\n",
      "Total params: 23,593,866\n",
      "Trainable params: 23,540,739\n",
      "Non-trainable params: 53,127\n",
      "_________________________________________________________________\n",
      "Epoch 1/10\n",
      "1308/1308 [==============================] - 327s 250ms/step - loss: 1.0020 - categorical_accuracy: 0.4666 - val_loss: 0.9857 - val_categorical_accuracy: 0.4905\n",
      "Epoch 2/10\n",
      "1308/1308 [==============================] - 126s 96ms/step - loss: 0.9839 - categorical_accuracy: 0.4899 - val_loss: 0.9832 - val_categorical_accuracy: 0.4869\n",
      "Epoch 3/10\n",
      "1308/1308 [==============================] - 126s 96ms/step - loss: 0.9720 - categorical_accuracy: 0.5001 - val_loss: 0.9661 - val_categorical_accuracy: 0.5148\n",
      "Epoch 4/10\n",
      "1308/1308 [==============================] - 126s 97ms/step - loss: 0.9623 - categorical_accuracy: 0.5114 - val_loss: 0.9610 - val_categorical_accuracy: 0.5146\n",
      "Epoch 5/10\n",
      "1308/1308 [==============================] - 127s 97ms/step - loss: 0.9527 - categorical_accuracy: 0.5158 - val_loss: 0.9595 - val_categorical_accuracy: 0.5153\n",
      "Epoch 6/10\n",
      "1308/1308 [==============================] - 119s 91ms/step - loss: 0.9410 - categorical_accuracy: 0.5233 - val_loss: 0.9591 - val_categorical_accuracy: 0.5239\n",
      "Epoch 7/10\n",
      "1308/1308 [==============================] - 118s 91ms/step - loss: 0.9252 - categorical_accuracy: 0.5352 - val_loss: 0.9575 - val_categorical_accuracy: 0.5191\n",
      "Epoch 8/10\n",
      "1308/1308 [==============================] - 118s 90ms/step - loss: 0.9086 - categorical_accuracy: 0.5437 - val_loss: 0.9756 - val_categorical_accuracy: 0.5174\n",
      "Epoch 9/10\n",
      "1308/1308 [==============================] - 118s 90ms/step - loss: 0.8815 - categorical_accuracy: 0.5645 - val_loss: 0.9891 - val_categorical_accuracy: 0.5191\n",
      "Epoch 10/10\n",
      "1308/1308 [==============================] - 119s 91ms/step - loss: 0.8540 - categorical_accuracy: 0.5782 - val_loss: 1.0356 - val_categorical_accuracy: 0.5062\n"
     ]
    }
   ],
   "source": [
    "# Unfreeze the base_model. Note that it keeps running in inference mode\n",
    "# since we passed `training=False` when calling it. This means that\n",
    "# the batchnorm layers will not update their batch statistics.\n",
    "# This prevents the batchnorm layers from undoing all the training\n",
    "# we've done so far.\n",
    "\n",
    "base_model.trainable = True\n",
    "model.summary()\n",
    "\n",
    "model.compile(\n",
    "    optimizer=keras.optimizers.Adam(1e-5),\n",
    "    loss=keras.losses.CategoricalCrossentropy(from_logits=True),\n",
    "    metrics=['categorical_accuracy'],\n",
    ")\n",
    "\n",
    "epochs = 10\n",
    "tuneHist = model.fit(train_dataset, epochs=epochs, validation_data=val_dataset)"
   ]
  },
  {
   "cell_type": "code",
   "execution_count": 88,
   "id": "angry-cycling",
   "metadata": {},
   "outputs": [
    {
     "data": {
      "image/png": "[encoded data removed]",
      "text/plain": [
       "<Figure size 432x288 with 1 Axes>"
      ]
     },
     "metadata": {
      "needs_background": "light"
     },
     "output_type": "display_data"
    }
   ],
   "source": [
    "plt.plot(tuneHist.history['categorical_accuracy'])\n",
    "plt.plot(tuneHist.history['val_categorical_accuracy'])\n",
    "plt.title('model accuracy')\n",
    "plt.ylabel('acc')\n",
    "plt.xlabel('epoch')\n",
    "plt.legend(['train', 'val'], loc='upper left')\n",
    "plt.show()"
   ]
  },
  {
   "cell_type": "code",
   "execution_count": 89,
   "id": "first-novel",
   "metadata": {},
   "outputs": [
    {
     "data": {
      "image/png": "[encoded data removed]",
      "text/plain": [
       "<Figure size 432x288 with 1 Axes>"
      ]
     },
     "metadata": {
      "needs_background": "light"
     },
     "output_type": "display_data"
    }
   ],
   "source": [
    "plt.plot(tuneHist.history['loss'])\n",
    "plt.plot(tuneHist.history['val_loss'])\n",
    "plt.title('model loss')\n",
    "plt.ylabel('loss')\n",
    "plt.xlabel('epoch')\n",
    "plt.legend(['train', 'val'], loc='upper left')\n",
    "plt.show()"
   ]
  },
  {
   "cell_type": "code",
   "execution_count": 260,
   "id": "violent-forest",
   "metadata": {},
   "outputs": [
    {
     "name": "stdout",
     "output_type": "stream",
     "text": [
      "INFO:tensorflow:Assets written to: ./sothebysResNet/assets\n"
     ]
    }
   ],
   "source": [
    "model.save(\"./sothebysResNet/\")"
   ]
  },
  {
   "cell_type": "markdown",
   "id": "second-method",
   "metadata": {},
   "source": [
    "# Siamese CNN"
   ]
  },
  {
   "cell_type": "markdown",
   "id": "loose-choir",
   "metadata": {},
   "source": [
    "## Data generator class, helper functions"
   ]
  },
  {
   "cell_type": "code",
   "execution_count": 111,
   "id": "interim-foundation",
   "metadata": {},
   "outputs": [],
   "source": [
    "def comparePriceBin(priceOnehot1, priceOnehot2):\n",
    "    priceB1 = np.argmax(priceOnehot1)\n",
    "    priceB2 = np.argmax(priceOnehot2)\n",
    "    \n",
    "    if (priceB1 == priceB2):\n",
    "        return np.array([0,1,0])\n",
    "    elif (priceB1 > priceB2):\n",
    "        return np.array([1,0,0])\n",
    "    else:\n",
    "        return np.array([0,0,1])"
   ]
  },
  {
   "cell_type": "code",
   "execution_count": 199,
   "id": "automatic-latin",
   "metadata": {},
   "outputs": [],
   "source": [
    "class DataGenerator(keras.utils.Sequence):\n",
    "    'Generates data for Keras'\n",
    "    def __init__(self, list_data, labels, batch_size=32, dim=(128,128,3), n_inputs=2,\n",
    "                 n_classes=3, shuffle=True):\n",
    "        'Initialization'\n",
    "        self.dim = dim\n",
    "        self.batch_size = batch_size\n",
    "        self.labels = labels\n",
    "        self.list_data = list_data\n",
    "        self.n_inputs = n_inputs\n",
    "        self.n_classes = n_classes\n",
    "        self.shuffle = shuffle\n",
    "        self.on_epoch_end()\n",
    "\n",
    "    def __len__(self):\n",
    "        'Denotes the number of batches per epoch'\n",
    "        return int(np.floor(len(self.list_data) / self.batch_size))\n",
    "\n",
    "    def __getitem__(self, index):\n",
    "        'Generate one batch of data'\n",
    "        # Generate indexes of the batch\n",
    "        index1 = np.random.choice(len(self.list_data), self.batch_size)\n",
    "        index2 = np.random.choice(len(self.list_data), self.batch_size)\n",
    "\n",
    "        # Generate data\n",
    "        X, y = self.__data_generation(index1, index2)\n",
    "\n",
    "        return X, y\n",
    "\n",
    "    def on_epoch_end(self):\n",
    "        'Updates indexes after each epoch'\n",
    "        pass\n",
    "\n",
    "    def __data_generation(self, index1, index2):\n",
    "        'Generates data containing batch_size samples' # X : (n_samples, *dim, n_channels)\n",
    "        # Initialization\n",
    "        X1 = np.empty((self.batch_size, *self.dim))\n",
    "        X2 = np.empty((self.batch_size, *self.dim))\n",
    "        y = np.empty((self.batch_size, self.n_classes), dtype=int)\n",
    "\n",
    "        # Generate data\n",
    "        for i in range(len(index1)):\n",
    "            data1 = self.list_data[index1[i]]\n",
    "            data2 = self.list_data[index2[i]]\n",
    "            label1 = self.labels[index1[i]]\n",
    "            label2 = self.labels[index2[i]]\n",
    "            \n",
    "            # Store sample\n",
    "            X1[i,:] = data1\n",
    "            X2[i,:] = data2\n",
    "\n",
    "            # Store class\n",
    "            y[i] = comparePriceBin(label1,label2)\n",
    "\n",
    "        return [X1,X2], y\n"
   ]
  },
  {
   "cell_type": "code",
   "execution_count": null,
   "id": "sensitive-steal",
   "metadata": {},
   "outputs": [],
   "source": []
  },
  {
   "cell_type": "code",
   "execution_count": null,
   "id": "thorough-trader",
   "metadata": {},
   "outputs": [],
   "source": []
  },
  {
   "cell_type": "code",
   "execution_count": 200,
   "id": "japanese-domestic",
   "metadata": {},
   "outputs": [],
   "source": [
    "# Parameters\n",
    "params = {'dim': (128,128,3),\n",
    "          'batch_size': 32,\n",
    "          'n_classes': 3,\n",
    "          'n_inputs': 2,\n",
    "          'shuffle': True}\n",
    "\n",
    "# Generators\n",
    "training_generator = DataGenerator(trainX, trainY, **params)\n",
    "validation_generator = DataGenerator(valX, valY, **params)"
   ]
  },
  {
   "cell_type": "code",
   "execution_count": null,
   "id": "romance-interview",
   "metadata": {},
   "outputs": [],
   "source": []
  },
  {
   "cell_type": "code",
   "execution_count": null,
   "id": "coastal-maine",
   "metadata": {},
   "outputs": [],
   "source": []
  },
  {
   "cell_type": "code",
   "execution_count": null,
   "id": "suspended-destination",
   "metadata": {},
   "outputs": [],
   "source": []
  },
  {
   "cell_type": "code",
   "execution_count": 255,
   "id": "brief-junior",
   "metadata": {},
   "outputs": [],
   "source": [
    "from keras.layers import Concatenate, Subtract, Multiply, Dot, Dense, Dropout, GlobalMaxPool2D, GlobalAvgPool2D\n",
    "\n",
    "def siameseCNN(input_shape, optimize, weight='imagenet'):\n",
    "    left_input = keras.Input(input_shape)\n",
    "    right_input = keras.Input(input_shape)\n",
    "    \n",
    "    base_model = keras.applications.ResNet50(\n",
    "        weights=weight,  # Load weights pre-trained on ImageNet.\n",
    "        input_shape=(128, 128, 3),\n",
    "        include_top=False)\n",
    "    base_model.trainable = True\n",
    "    \n",
    "    norm_layer = keras.layers.experimental.preprocessing.Normalization()\n",
    "    mean = np.array([127.5] * 3)\n",
    "    var = mean ** 2\n",
    "    norm_layer.trainable = False\n",
    "    # Scale inputs to [-1, +1]\n",
    "    x1 = norm_layer(left_input)\n",
    "    x2 = norm_layer(right_input)\n",
    "    norm_layer.set_weights([mean, var])\n",
    "    \n",
    "    \n",
    "    x1 = base_model(x1)\n",
    "    x2 = base_model(x2)\n",
    "    \n",
    "    x1 = Concatenate(axis=-1)([GlobalMaxPool2D()(x1), GlobalAvgPool2D()(x1)])\n",
    "    x2 = Concatenate(axis=-1)([GlobalMaxPool2D()(x2), GlobalAvgPool2D()(x2)])\n",
    "    \n",
    "    x3 = Subtract()([x1,x2])\n",
    "    x3 = Multiply()([x3,x3])\n",
    "    \n",
    "    x1_ = Multiply()([x1,x1])\n",
    "    x2_ = Multiply()([x2,x2])\n",
    "    x4 = Subtract()([x1_,x2_])\n",
    "    \n",
    "    x5 = Dot(axes=-1, normalize=True)([x1, x2])\n",
    "    \n",
    "    x = Concatenate(axis=-1)([x5,x4,x3])\n",
    "    x = Dense(1024, activation=\"relu\")(x)\n",
    "#     x = Dropout(0.01)(x)\n",
    "#     out = Dense(3)(x)\n",
    "    x = Dropout(0.2)(x)\n",
    "    out = Dense(3, activation=\"softmax\")(x)\n",
    "    \n",
    "    model = keras.Model([left_input, right_input], out)\n",
    "    \n",
    "    model.compile(\n",
    "        optimizer=optimize,\n",
    "        loss=keras.losses.CategoricalCrossentropy(),\n",
    "        metrics=['categorical_accuracy'],\n",
    "    )\n",
    "    \n",
    "    model.summary()\n",
    "    \n",
    "    return model, base_model"
   ]
  },
  {
   "cell_type": "code",
   "execution_count": 238,
   "id": "accessory-customer",
   "metadata": {},
   "outputs": [
    {
     "name": "stdout",
     "output_type": "stream",
     "text": [
      "Model: \"model_13\"\n",
      "__________________________________________________________________________________________________\n",
      "Layer (type)                    Output Shape         Param #     Connected to                     \n",
      "==================================================================================================\n",
      "input_46 (InputLayer)           [(None, 128, 128, 3) 0                                            \n",
      "__________________________________________________________________________________________________\n",
      "input_47 (InputLayer)           [(None, 128, 128, 3) 0                                            \n",
      "__________________________________________________________________________________________________\n",
      "normalization_15 (Normalization (None, 128, 128, 3)  7           input_46[0][0]                   \n",
      "                                                                 input_47[0][0]                   \n",
      "__________________________________________________________________________________________________\n",
      "resnet50 (Model)                (None, 4, 4, 2048)   23587712    normalization_15[0][0]           \n",
      "                                                                 normalization_15[1][0]           \n",
      "__________________________________________________________________________________________________\n",
      "global_max_pooling2d_16 (Global (None, 2048)         0           resnet50[1][0]                   \n",
      "__________________________________________________________________________________________________\n",
      "global_average_pooling2d_22 (Gl (None, 2048)         0           resnet50[1][0]                   \n",
      "__________________________________________________________________________________________________\n",
      "global_max_pooling2d_17 (Global (None, 2048)         0           resnet50[2][0]                   \n",
      "__________________________________________________________________________________________________\n",
      "global_average_pooling2d_23 (Gl (None, 2048)         0           resnet50[2][0]                   \n",
      "__________________________________________________________________________________________________\n",
      "concatenate_25 (Concatenate)    (None, 4096)         0           global_max_pooling2d_16[0][0]    \n",
      "                                                                 global_average_pooling2d_22[0][0]\n",
      "__________________________________________________________________________________________________\n",
      "concatenate_26 (Concatenate)    (None, 4096)         0           global_max_pooling2d_17[0][0]    \n",
      "                                                                 global_average_pooling2d_23[0][0]\n",
      "__________________________________________________________________________________________________\n",
      "multiply_25 (Multiply)          (None, 4096)         0           concatenate_25[0][0]             \n",
      "                                                                 concatenate_25[0][0]             \n",
      "__________________________________________________________________________________________________\n",
      "multiply_26 (Multiply)          (None, 4096)         0           concatenate_26[0][0]             \n",
      "                                                                 concatenate_26[0][0]             \n",
      "__________________________________________________________________________________________________\n",
      "subtract_16 (Subtract)          (None, 4096)         0           concatenate_25[0][0]             \n",
      "                                                                 concatenate_26[0][0]             \n",
      "__________________________________________________________________________________________________\n",
      "dot_8 (Dot)                     (None, 1)            0           concatenate_25[0][0]             \n",
      "                                                                 concatenate_26[0][0]             \n",
      "__________________________________________________________________________________________________\n",
      "subtract_17 (Subtract)          (None, 4096)         0           multiply_25[0][0]                \n",
      "                                                                 multiply_26[0][0]                \n",
      "__________________________________________________________________________________________________\n",
      "multiply_24 (Multiply)          (None, 4096)         0           subtract_16[0][0]                \n",
      "                                                                 subtract_16[0][0]                \n",
      "__________________________________________________________________________________________________\n",
      "concatenate_27 (Concatenate)    (None, 8193)         0           dot_8[0][0]                      \n",
      "                                                                 subtract_17[0][0]                \n",
      "                                                                 multiply_24[0][0]                \n",
      "__________________________________________________________________________________________________\n",
      "dense_20 (Dense)                (None, 1024)         8390656     concatenate_27[0][0]             \n",
      "__________________________________________________________________________________________________\n",
      "dropout_12 (Dropout)            (None, 1024)         0           dense_20[0][0]                   \n",
      "__________________________________________________________________________________________________\n",
      "dense_21 (Dense)                (None, 3)            3075        dropout_12[0][0]                 \n",
      "==================================================================================================\n",
      "Total params: 31,981,450\n",
      "Trainable params: 31,928,323\n",
      "Non-trainable params: 53,127\n",
      "__________________________________________________________________________________________________\n"
     ]
    }
   ],
   "source": [
    "# for keeping track the best model\n",
    "checkpoint_filepath = './sothebysSiamCNN/checkpoint'\n",
    "model_checkpoint_callback = tf.keras.callbacks.ModelCheckpoint(\n",
    "    filepath=checkpoint_filepath,\n",
    "    save_weights_only=True,\n",
    "    monitor='val_categorical_accuracy',\n",
    "    mode='max',\n",
    "    save_best_only=True)\n",
    "\n",
    "opti = keras.optimizers.Adam(1e-5)\n",
    "\n",
    "# prime the network by fixing base model's weight and train the added layer\n",
    "sothebysSiam, siamBase = siameseCNN(input_shape = (128,128,3), optimize=opti)\n",
    "# siamBase.trainable = False"
   ]
  },
  {
   "cell_type": "code",
   "execution_count": 239,
   "id": "viral-morris",
   "metadata": {},
   "outputs": [],
   "source": [
    "trainingHist = []"
   ]
  },
  {
   "cell_type": "code",
   "execution_count": 240,
   "id": "quarterly-operator",
   "metadata": {},
   "outputs": [
    {
     "name": "stdout",
     "output_type": "stream",
     "text": [
      "Epoch 1/20\n",
      "1307/1307 [==============================] - 228s 175ms/step - loss: 20.4975 - categorical_accuracy: 0.3917 - val_loss: 16.2558 - val_categorical_accuracy: 0.3851\n",
      "Epoch 2/20\n",
      "1307/1307 [==============================] - 229s 175ms/step - loss: 11.5173 - categorical_accuracy: 0.4071 - val_loss: 11.0142 - val_categorical_accuracy: 0.3916\n",
      "Epoch 3/20\n",
      "1307/1307 [==============================] - 226s 173ms/step - loss: 7.8105 - categorical_accuracy: 0.4158 - val_loss: 7.7393 - val_categorical_accuracy: 0.3983\n",
      "Epoch 4/20\n",
      "1307/1307 [==============================] - 229s 175ms/step - loss: 4.6594 - categorical_accuracy: 0.4141 - val_loss: 5.3303 - val_categorical_accuracy: 0.4039\n",
      "Epoch 5/20\n",
      "1307/1307 [==============================] - 229s 175ms/step - loss: 2.7434 - categorical_accuracy: 0.4085 - val_loss: 2.3327 - val_categorical_accuracy: 0.3998\n",
      "Epoch 6/20\n",
      "1307/1307 [==============================] - 231s 176ms/step - loss: 1.8187 - categorical_accuracy: 0.4047 - val_loss: 1.7297 - val_categorical_accuracy: 0.4080\n",
      "Epoch 7/20\n",
      "1307/1307 [==============================] - 223s 171ms/step - loss: 1.3859 - categorical_accuracy: 0.4087 - val_loss: 1.3107 - val_categorical_accuracy: 0.4082\n",
      "Epoch 8/20\n",
      "1307/1307 [==============================] - 222s 170ms/step - loss: 1.1953 - categorical_accuracy: 0.4231 - val_loss: 1.2137 - val_categorical_accuracy: 0.4069\n",
      "Epoch 9/20\n",
      "1307/1307 [==============================] - 232s 178ms/step - loss: 1.1144 - categorical_accuracy: 0.4390 - val_loss: 1.1449 - val_categorical_accuracy: 0.4300\n",
      "Epoch 10/20\n",
      "1307/1307 [==============================] - 230s 176ms/step - loss: 1.0656 - categorical_accuracy: 0.4548 - val_loss: 1.1224 - val_categorical_accuracy: 0.4153\n",
      "Epoch 11/20\n",
      "1307/1307 [==============================] - 233s 178ms/step - loss: 1.0194 - categorical_accuracy: 0.4804 - val_loss: 1.0784 - val_categorical_accuracy: 0.4455\n",
      "Epoch 12/20\n",
      "1307/1307 [==============================] - 234s 179ms/step - loss: 0.9814 - categorical_accuracy: 0.4996 - val_loss: 1.0656 - val_categorical_accuracy: 0.4586\n",
      "Epoch 13/20\n",
      "1307/1307 [==============================] - 232s 178ms/step - loss: 0.9457 - categorical_accuracy: 0.5208 - val_loss: 1.1090 - val_categorical_accuracy: 0.4403\n",
      "Epoch 14/20\n",
      "1307/1307 [==============================] - 233s 178ms/step - loss: 0.8886 - categorical_accuracy: 0.5547 - val_loss: 1.1459 - val_categorical_accuracy: 0.4565\n",
      "Epoch 15/20\n",
      "1307/1307 [==============================] - 232s 178ms/step - loss: 0.8309 - categorical_accuracy: 0.5920 - val_loss: 1.1791 - val_categorical_accuracy: 0.4554\n",
      "Epoch 16/20\n",
      "1307/1307 [==============================] - 231s 177ms/step - loss: 0.7625 - categorical_accuracy: 0.6311 - val_loss: 1.2507 - val_categorical_accuracy: 0.4539\n",
      "Epoch 17/20\n",
      "1307/1307 [==============================] - 222s 170ms/step - loss: 0.6909 - categorical_accuracy: 0.6736 - val_loss: 1.3751 - val_categorical_accuracy: 0.4569\n",
      "Epoch 18/20\n",
      "1307/1307 [==============================] - 225s 172ms/step - loss: 0.6263 - categorical_accuracy: 0.7109 - val_loss: 1.5148 - val_categorical_accuracy: 0.4483\n",
      "Epoch 19/20\n",
      "1307/1307 [==============================] - 233s 178ms/step - loss: 0.5606 - categorical_accuracy: 0.7467 - val_loss: 1.5526 - val_categorical_accuracy: 0.4388\n",
      "Epoch 20/20\n",
      "1307/1307 [==============================] - 233s 178ms/step - loss: 0.5055 - categorical_accuracy: 0.7770 - val_loss: 1.7836 - val_categorical_accuracy: 0.4369\n"
     ]
    }
   ],
   "source": [
    "hist = sothebysSiam.fit(training_generator,\n",
    "                           validation_data=validation_generator, \n",
    "                           epochs=20,\n",
    "                          callbacks=[model_checkpoint_callback])\n",
    "trainingHist.append(hist)"
   ]
  },
  {
   "cell_type": "code",
   "execution_count": 241,
   "id": "million-thesaurus",
   "metadata": {},
   "outputs": [
    {
     "data": {
      "text/plain": [
       "<tensorflow.python.training.tracking.util.CheckpointLoadStatus at 0x7faf9ebae290>"
      ]
     },
     "execution_count": 241,
     "metadata": {},
     "output_type": "execute_result"
    }
   ],
   "source": [
    "# The model weights (that are considered the best) are loaded into the model.\n",
    "sothebysSiam.load_weights(checkpoint_filepath)"
   ]
  },
  {
   "cell_type": "code",
   "execution_count": 242,
   "id": "greater-johns",
   "metadata": {},
   "outputs": [
    {
     "name": "stdout",
     "output_type": "stream",
     "text": [
      "Epoch 1/10\n",
      "1307/1307 [==============================] - 227s 174ms/step - loss: 0.9476 - categorical_accuracy: 0.5152 - val_loss: 1.0682 - val_categorical_accuracy: 0.4515\n",
      "Epoch 2/10\n",
      "1307/1307 [==============================] - 227s 174ms/step - loss: 0.9277 - categorical_accuracy: 0.5282 - val_loss: 1.0814 - val_categorical_accuracy: 0.4481\n",
      "Epoch 3/10\n",
      "1307/1307 [==============================] - 224s 172ms/step - loss: 0.9200 - categorical_accuracy: 0.5357 - val_loss: 1.0672 - val_categorical_accuracy: 0.4506\n",
      "Epoch 4/10\n",
      "1307/1307 [==============================] - 222s 170ms/step - loss: 0.9002 - categorical_accuracy: 0.5460 - val_loss: 1.0764 - val_categorical_accuracy: 0.4629\n",
      "Epoch 5/10\n",
      "1307/1307 [==============================] - 223s 170ms/step - loss: 0.8977 - categorical_accuracy: 0.5473 - val_loss: 1.0824 - val_categorical_accuracy: 0.4642\n",
      "Epoch 6/10\n",
      "1307/1307 [==============================] - 222s 170ms/step - loss: 0.8864 - categorical_accuracy: 0.5529 - val_loss: 1.0798 - val_categorical_accuracy: 0.4606\n",
      "Epoch 7/10\n",
      "1307/1307 [==============================] - 222s 170ms/step - loss: 0.8737 - categorical_accuracy: 0.5634 - val_loss: 1.0833 - val_categorical_accuracy: 0.4599\n",
      "Epoch 8/10\n",
      "1307/1307 [==============================] - 222s 170ms/step - loss: 0.8657 - categorical_accuracy: 0.5659 - val_loss: 1.1140 - val_categorical_accuracy: 0.4470\n",
      "Epoch 9/10\n",
      "1307/1307 [==============================] - 223s 171ms/step - loss: 0.8521 - categorical_accuracy: 0.5777 - val_loss: 1.1093 - val_categorical_accuracy: 0.4427\n",
      "Epoch 10/10\n",
      "1307/1307 [==============================] - 225s 172ms/step - loss: 0.8451 - categorical_accuracy: 0.5808 - val_loss: 1.1165 - val_categorical_accuracy: 0.4653\n"
     ]
    }
   ],
   "source": [
    "# train at lower learning rate\n",
    "sothebysSiam.compile(\n",
    "    optimizer=keras.optimizers.Adam(1e-6),\n",
    "    loss=keras.losses.CategoricalCrossentropy(),\n",
    "    metrics=['categorical_accuracy'],\n",
    ")\n",
    "\n",
    "hist = sothebysSiam.fit(training_generator,\n",
    "                           validation_data=validation_generator, \n",
    "                           epochs=10,\n",
    "                          callbacks=[model_checkpoint_callback])\n",
    "trainingHist.append(hist)"
   ]
  },
  {
   "cell_type": "code",
   "execution_count": 244,
   "id": "equipped-assault",
   "metadata": {},
   "outputs": [
    {
     "name": "stdout",
     "output_type": "stream",
     "text": [
      "Epoch 1/10\n",
      "1307/1307 [==============================] - 229s 175ms/step - loss: 0.7219 - categorical_accuracy: 0.6521 - val_loss: 1.3138 - val_categorical_accuracy: 0.4468\n",
      "Epoch 2/10\n",
      "1307/1307 [==============================] - 226s 173ms/step - loss: 0.6854 - categorical_accuracy: 0.6758 - val_loss: 1.3905 - val_categorical_accuracy: 0.4317\n",
      "Epoch 3/10\n",
      "1307/1307 [==============================] - 222s 170ms/step - loss: 0.6445 - categorical_accuracy: 0.7004 - val_loss: 1.3454 - val_categorical_accuracy: 0.4578\n",
      "Epoch 4/10\n",
      "1307/1307 [==============================] - 222s 170ms/step - loss: 0.6008 - categorical_accuracy: 0.7234 - val_loss: 1.4879 - val_categorical_accuracy: 0.4627\n",
      "Epoch 5/10\n",
      "1307/1307 [==============================] - 221s 169ms/step - loss: 0.5649 - categorical_accuracy: 0.7435 - val_loss: 1.6214 - val_categorical_accuracy: 0.4537\n",
      "Epoch 6/10\n",
      "1307/1307 [==============================] - 221s 169ms/step - loss: 0.5217 - categorical_accuracy: 0.7674 - val_loss: 1.6534 - val_categorical_accuracy: 0.4526\n",
      "Epoch 7/10\n",
      "1307/1307 [==============================] - 221s 169ms/step - loss: 0.4836 - categorical_accuracy: 0.7893 - val_loss: 1.7635 - val_categorical_accuracy: 0.4636\n",
      "Epoch 8/10\n",
      "1307/1307 [==============================] - 221s 169ms/step - loss: 0.4447 - categorical_accuracy: 0.8041 - val_loss: 1.9438 - val_categorical_accuracy: 0.4481\n",
      "Epoch 9/10\n",
      "1307/1307 [==============================] - 222s 170ms/step - loss: 0.4033 - categorical_accuracy: 0.8312 - val_loss: 1.9967 - val_categorical_accuracy: 0.4472\n",
      "Epoch 10/10\n",
      "1307/1307 [==============================] - 222s 169ms/step - loss: 0.3692 - categorical_accuracy: 0.8451 - val_loss: 2.1677 - val_categorical_accuracy: 0.4502\n"
     ]
    }
   ],
   "source": [
    "# train at lower learning rate\n",
    "sothebysSiam.compile(\n",
    "    optimizer=keras.optimizers.Adam(5e-6),\n",
    "    loss=keras.losses.CategoricalCrossentropy(),\n",
    "    metrics=['categorical_accuracy'],\n",
    ")\n",
    "\n",
    "hist = sothebysSiam.fit(training_generator,\n",
    "                           validation_data=validation_generator, \n",
    "                           epochs=10,\n",
    "                          callbacks=[model_checkpoint_callback])\n",
    "trainingHist.append(hist)"
   ]
  },
  {
   "cell_type": "code",
   "execution_count": 250,
   "id": "resistant-result",
   "metadata": {},
   "outputs": [],
   "source": [
    "def collapseHist(histlist, key):\n",
    "    flatHist = []\n",
    "    for hist in histlist:\n",
    "        flatHist += hist.history[key]\n",
    "    return flatHist"
   ]
  },
  {
   "cell_type": "code",
   "execution_count": 252,
   "id": "expensive-yorkshire",
   "metadata": {},
   "outputs": [
    {
     "data": {
      "image/png": "[encoded data removed]",
      "text/plain": [
       "<Figure size 432x288 with 1 Axes>"
      ]
     },
     "metadata": {
      "needs_background": "light"
     },
     "output_type": "display_data"
    }
   ],
   "source": [
    "plt.plot(collapseHist(trainingHist, 'categorical_accuracy'))\n",
    "plt.plot(collapseHist(trainingHist, 'val_categorical_accuracy'))\n",
    "plt.title('model accuracy')\n",
    "plt.ylabel('acc')\n",
    "plt.xlabel('epoch')\n",
    "plt.legend(['train', 'val'], loc='upper left')\n",
    "plt.show()"
   ]
  },
  {
   "cell_type": "code",
   "execution_count": 253,
   "id": "tested-valuation",
   "metadata": {},
   "outputs": [
    {
     "data": {
      "image/png": "[encoded data removed]",
      "text/plain": [
       "<Figure size 432x288 with 1 Axes>"
      ]
     },
     "metadata": {
      "needs_background": "light"
     },
     "output_type": "display_data"
    }
   ],
   "source": [
    "plt.plot(collapseHist(trainingHist, 'loss'))\n",
    "plt.plot(collapseHist(trainingHist, 'val_loss'))\n",
    "plt.title('model accuracy')\n",
    "plt.ylabel('acc')\n",
    "plt.xlabel('epoch')\n",
    "plt.legend(['train', 'val'], loc='upper left')\n",
    "plt.show()"
   ]
  },
  {
   "cell_type": "code",
   "execution_count": 254,
   "id": "tamil-hotel",
   "metadata": {},
   "outputs": [
    {
     "name": "stdout",
     "output_type": "stream",
     "text": [
      "INFO:tensorflow:Assets written to: ./sothebysSiamCNN/siamBestTransfer/assets\n"
     ]
    }
   ],
   "source": [
    "\n",
    "sothebysSiam.load_weights(checkpoint_filepath)\n",
    "sothebysSiam.save(\"./sothebysSiamCNN/siamBestTransfer/\")"
   ]
  },
  {
   "cell_type": "code",
   "execution_count": 218,
   "id": "lonely-canal",
   "metadata": {},
   "outputs": [],
   "source": []
  },
  {
   "cell_type": "code",
   "execution_count": 256,
   "id": "oriental-screening",
   "metadata": {},
   "outputs": [
    {
     "name": "stdout",
     "output_type": "stream",
     "text": [
      "Model: \"model_14\"\n",
      "__________________________________________________________________________________________________\n",
      "Layer (type)                    Output Shape         Param #     Connected to                     \n",
      "==================================================================================================\n",
      "input_49 (InputLayer)           [(None, 128, 128, 3) 0                                            \n",
      "__________________________________________________________________________________________________\n",
      "input_50 (InputLayer)           [(None, 128, 128, 3) 0                                            \n",
      "__________________________________________________________________________________________________\n",
      "normalization_16 (Normalization (None, 128, 128, 3)  7           input_49[0][0]                   \n",
      "                                                                 input_50[0][0]                   \n",
      "__________________________________________________________________________________________________\n",
      "resnet50 (Model)                (None, 4, 4, 2048)   23587712    normalization_16[0][0]           \n",
      "                                                                 normalization_16[1][0]           \n",
      "__________________________________________________________________________________________________\n",
      "global_max_pooling2d_18 (Global (None, 2048)         0           resnet50[1][0]                   \n",
      "__________________________________________________________________________________________________\n",
      "global_average_pooling2d_24 (Gl (None, 2048)         0           resnet50[1][0]                   \n",
      "__________________________________________________________________________________________________\n",
      "global_max_pooling2d_19 (Global (None, 2048)         0           resnet50[2][0]                   \n",
      "__________________________________________________________________________________________________\n",
      "global_average_pooling2d_25 (Gl (None, 2048)         0           resnet50[2][0]                   \n",
      "__________________________________________________________________________________________________\n",
      "concatenate_28 (Concatenate)    (None, 4096)         0           global_max_pooling2d_18[0][0]    \n",
      "                                                                 global_average_pooling2d_24[0][0]\n",
      "__________________________________________________________________________________________________\n",
      "concatenate_29 (Concatenate)    (None, 4096)         0           global_max_pooling2d_19[0][0]    \n",
      "                                                                 global_average_pooling2d_25[0][0]\n",
      "__________________________________________________________________________________________________\n",
      "multiply_28 (Multiply)          (None, 4096)         0           concatenate_28[0][0]             \n",
      "                                                                 concatenate_28[0][0]             \n",
      "__________________________________________________________________________________________________\n",
      "multiply_29 (Multiply)          (None, 4096)         0           concatenate_29[0][0]             \n",
      "                                                                 concatenate_29[0][0]             \n",
      "__________________________________________________________________________________________________\n",
      "subtract_18 (Subtract)          (None, 4096)         0           concatenate_28[0][0]             \n",
      "                                                                 concatenate_29[0][0]             \n",
      "__________________________________________________________________________________________________\n",
      "dot_9 (Dot)                     (None, 1)            0           concatenate_28[0][0]             \n",
      "                                                                 concatenate_29[0][0]             \n",
      "__________________________________________________________________________________________________\n",
      "subtract_19 (Subtract)          (None, 4096)         0           multiply_28[0][0]                \n",
      "                                                                 multiply_29[0][0]                \n",
      "__________________________________________________________________________________________________\n",
      "multiply_27 (Multiply)          (None, 4096)         0           subtract_18[0][0]                \n",
      "                                                                 subtract_18[0][0]                \n",
      "__________________________________________________________________________________________________\n",
      "concatenate_30 (Concatenate)    (None, 8193)         0           dot_9[0][0]                      \n",
      "                                                                 subtract_19[0][0]                \n",
      "                                                                 multiply_27[0][0]                \n",
      "__________________________________________________________________________________________________\n",
      "dense_22 (Dense)                (None, 1024)         8390656     concatenate_30[0][0]             \n",
      "__________________________________________________________________________________________________\n",
      "dropout_13 (Dropout)            (None, 1024)         0           dense_22[0][0]                   \n",
      "__________________________________________________________________________________________________\n",
      "dense_23 (Dense)                (None, 3)            3075        dropout_13[0][0]                 \n",
      "==================================================================================================\n",
      "Total params: 31,981,450\n",
      "Trainable params: 31,928,323\n",
      "Non-trainable params: 53,127\n",
      "__________________________________________________________________________________________________\n"
     ]
    }
   ],
   "source": [
    "opti = keras.optimizers.Adam()\n",
    "\n",
    "# retrain model without pretrain weight\n",
    "sothebysSiam, siamBase = siameseCNN(input_shape = (128,128,3), optimize=opti, weight=None)\n",
    "# siamBase.trainable = False"
   ]
  },
  {
   "cell_type": "code",
   "execution_count": 257,
   "id": "digital-blank",
   "metadata": {},
   "outputs": [],
   "source": [
    "trainingHist = []"
   ]
  },
  {
   "cell_type": "code",
   "execution_count": 258,
   "id": "impossible-booking",
   "metadata": {},
   "outputs": [
    {
     "name": "stdout",
     "output_type": "stream",
     "text": [
      "Epoch 1/20\n",
      "1307/1307 [==============================] - 228s 174ms/step - loss: 2.1292 - categorical_accuracy: 0.3752 - val_loss: 1.0930 - val_categorical_accuracy: 0.3903\n",
      "Epoch 2/20\n",
      "1307/1307 [==============================] - 227s 174ms/step - loss: 1.0837 - categorical_accuracy: 0.3959 - val_loss: 1.0571 - val_categorical_accuracy: 0.4166\n",
      "Epoch 3/20\n",
      "1307/1307 [==============================] - 221s 169ms/step - loss: 1.0655 - categorical_accuracy: 0.4125 - val_loss: 1.0578 - val_categorical_accuracy: 0.4306\n",
      "Epoch 4/20\n",
      "1307/1307 [==============================] - 228s 174ms/step - loss: 1.0586 - categorical_accuracy: 0.4223 - val_loss: 1.0700 - val_categorical_accuracy: 0.4093\n",
      "Epoch 5/20\n",
      "1307/1307 [==============================] - 229s 175ms/step - loss: 1.0528 - categorical_accuracy: 0.4250 - val_loss: 1.0599 - val_categorical_accuracy: 0.4218\n",
      "Epoch 6/20\n",
      "1307/1307 [==============================] - 224s 171ms/step - loss: 1.0470 - categorical_accuracy: 0.4355 - val_loss: 1.0572 - val_categorical_accuracy: 0.4349\n",
      "Epoch 7/20\n",
      "1307/1307 [==============================] - 227s 174ms/step - loss: 1.0464 - categorical_accuracy: 0.4357 - val_loss: 1.0379 - val_categorical_accuracy: 0.4461\n",
      "Epoch 8/20\n",
      "1307/1307 [==============================] - 225s 172ms/step - loss: 1.0500 - categorical_accuracy: 0.4342 - val_loss: 1.0646 - val_categorical_accuracy: 0.4108\n",
      "Epoch 9/20\n",
      "1307/1307 [==============================] - 223s 171ms/step - loss: 1.0479 - categorical_accuracy: 0.4352 - val_loss: 1.0399 - val_categorical_accuracy: 0.4552\n",
      "Epoch 10/20\n",
      "1307/1307 [==============================] - 227s 174ms/step - loss: 1.0455 - categorical_accuracy: 0.4391 - val_loss: 1.0513 - val_categorical_accuracy: 0.4302\n",
      "Epoch 11/20\n",
      "1307/1307 [==============================] - 229s 175ms/step - loss: 1.0413 - categorical_accuracy: 0.4384 - val_loss: 1.0541 - val_categorical_accuracy: 0.4325\n",
      "Epoch 12/20\n",
      "1307/1307 [==============================] - 226s 173ms/step - loss: 1.0406 - categorical_accuracy: 0.4438 - val_loss: 1.0468 - val_categorical_accuracy: 0.4390\n",
      "Epoch 13/20\n",
      "1307/1307 [==============================] - 230s 176ms/step - loss: 1.0342 - categorical_accuracy: 0.4463 - val_loss: 1.0358 - val_categorical_accuracy: 0.4483\n",
      "Epoch 14/20\n",
      "1307/1307 [==============================] - 229s 175ms/step - loss: 1.0338 - categorical_accuracy: 0.4498 - val_loss: 1.0374 - val_categorical_accuracy: 0.4560\n",
      "Epoch 15/20\n",
      "1307/1307 [==============================] - 229s 175ms/step - loss: 1.0254 - categorical_accuracy: 0.4567 - val_loss: 1.0422 - val_categorical_accuracy: 0.4483\n",
      "Epoch 16/20\n",
      "1307/1307 [==============================] - 230s 176ms/step - loss: 1.0112 - categorical_accuracy: 0.4729 - val_loss: 1.0496 - val_categorical_accuracy: 0.4429\n",
      "Epoch 17/20\n",
      "1307/1307 [==============================] - 229s 175ms/step - loss: 1.0005 - categorical_accuracy: 0.4801 - val_loss: 1.0568 - val_categorical_accuracy: 0.4468\n",
      "Epoch 18/20\n",
      "1307/1307 [==============================] - 221s 169ms/step - loss: 0.9833 - categorical_accuracy: 0.4913 - val_loss: 1.0579 - val_categorical_accuracy: 0.4407\n",
      "Epoch 19/20\n",
      "1307/1307 [==============================] - 222s 170ms/step - loss: 0.9569 - categorical_accuracy: 0.5139 - val_loss: 1.0821 - val_categorical_accuracy: 0.4328\n",
      "Epoch 20/20\n",
      "1307/1307 [==============================] - 221s 169ms/step - loss: 0.9265 - categorical_accuracy: 0.5344 - val_loss: 1.0925 - val_categorical_accuracy: 0.4409\n"
     ]
    }
   ],
   "source": [
    "hist = sothebysSiam.fit(training_generator,\n",
    "                           validation_data=validation_generator, \n",
    "                           epochs=20,\n",
    "                          callbacks=[model_checkpoint_callback])\n",
    "trainingHist.append(hist)"
   ]
  },
  {
   "cell_type": "code",
   "execution_count": 15,
   "id": "decent-annex",
   "metadata": {},
   "outputs": [],
   "source": [
    "import keras"
   ]
  },
  {
   "cell_type": "code",
   "execution_count": 16,
   "id": "wound-inside",
   "metadata": {},
   "outputs": [],
   "source": [
    "sothebysSiam = keras.models.load_model('./sothebysSiamCNN/siamBestTransfer/')"
   ]
  },
  {
   "cell_type": "code",
   "execution_count": 17,
   "id": "wrapped-liberia",
   "metadata": {},
   "outputs": [],
   "source": [
    "model = keras.models.load_model(\"./sothebysResNet/\")"
   ]
  },
  {
   "cell_type": "code",
   "execution_count": 270,
   "id": "smart-being",
   "metadata": {},
   "outputs": [
    {
     "name": "stdout",
     "output_type": "stream",
     "text": [
      "Model: \"model_13\"\n",
      "__________________________________________________________________________________________________\n",
      "Layer (type)                    Output Shape         Param #     Connected to                     \n",
      "==================================================================================================\n",
      "input_46 (InputLayer)           [(None, 128, 128, 3) 0                                            \n",
      "__________________________________________________________________________________________________\n",
      "input_47 (InputLayer)           [(None, 128, 128, 3) 0                                            \n",
      "__________________________________________________________________________________________________\n",
      "normalization_15 (Normalization (None, 128, 128, 3)  7           input_46[0][0]                   \n",
      "                                                                 input_47[0][0]                   \n",
      "__________________________________________________________________________________________________\n",
      "resnet50 (Model)                (None, 4, 4, 2048)   23587712    normalization_15[0][0]           \n",
      "                                                                 normalization_15[1][0]           \n",
      "__________________________________________________________________________________________________\n",
      "global_max_pooling2d_16 (Global (None, 2048)         0           resnet50[1][0]                   \n",
      "__________________________________________________________________________________________________\n",
      "global_average_pooling2d_22 (Gl (None, 2048)         0           resnet50[1][0]                   \n",
      "__________________________________________________________________________________________________\n",
      "global_max_pooling2d_17 (Global (None, 2048)         0           resnet50[2][0]                   \n",
      "__________________________________________________________________________________________________\n",
      "global_average_pooling2d_23 (Gl (None, 2048)         0           resnet50[2][0]                   \n",
      "__________________________________________________________________________________________________\n",
      "concatenate_25 (Concatenate)    (None, 4096)         0           global_max_pooling2d_16[0][0]    \n",
      "                                                                 global_average_pooling2d_22[0][0]\n",
      "__________________________________________________________________________________________________\n",
      "concatenate_26 (Concatenate)    (None, 4096)         0           global_max_pooling2d_17[0][0]    \n",
      "                                                                 global_average_pooling2d_23[0][0]\n",
      "__________________________________________________________________________________________________\n",
      "multiply_25 (Multiply)          (None, 4096)         0           concatenate_25[0][0]             \n",
      "                                                                 concatenate_25[0][0]             \n",
      "__________________________________________________________________________________________________\n",
      "multiply_26 (Multiply)          (None, 4096)         0           concatenate_26[0][0]             \n",
      "                                                                 concatenate_26[0][0]             \n",
      "__________________________________________________________________________________________________\n",
      "subtract_16 (Subtract)          (None, 4096)         0           concatenate_25[0][0]             \n",
      "                                                                 concatenate_26[0][0]             \n",
      "__________________________________________________________________________________________________\n",
      "dot_8 (Dot)                     (None, 1)            0           concatenate_25[0][0]             \n",
      "                                                                 concatenate_26[0][0]             \n",
      "__________________________________________________________________________________________________\n",
      "subtract_17 (Subtract)          (None, 4096)         0           multiply_25[0][0]                \n",
      "                                                                 multiply_26[0][0]                \n",
      "__________________________________________________________________________________________________\n",
      "multiply_24 (Multiply)          (None, 4096)         0           subtract_16[0][0]                \n",
      "                                                                 subtract_16[0][0]                \n",
      "__________________________________________________________________________________________________\n",
      "concatenate_27 (Concatenate)    (None, 8193)         0           dot_8[0][0]                      \n",
      "                                                                 subtract_17[0][0]                \n",
      "                                                                 multiply_24[0][0]                \n",
      "__________________________________________________________________________________________________\n",
      "dense_20 (Dense)                (None, 1024)         8390656     concatenate_27[0][0]             \n",
      "__________________________________________________________________________________________________\n",
      "dropout_12 (Dropout)            (None, 1024)         0           dense_20[0][0]                   \n",
      "__________________________________________________________________________________________________\n",
      "dense_21 (Dense)                (None, 3)            3075        dropout_12[0][0]                 \n",
      "==================================================================================================\n",
      "Total params: 31,981,450\n",
      "Trainable params: 31,928,323\n",
      "Non-trainable params: 53,127\n",
      "__________________________________________________________________________________________________\n"
     ]
    }
   ],
   "source": [
    "sothebysSiam.summary()"
   ]
  },
  {
   "cell_type": "code",
   "execution_count": 19,
   "id": "standard-vampire",
   "metadata": {},
   "outputs": [],
   "source": [
    "import pandas as pd"
   ]
  },
  {
   "cell_type": "code",
   "execution_count": 21,
   "id": "later-cruise",
   "metadata": {},
   "outputs": [],
   "source": [
    "sothebysUS = pd.read_pickle(\"./sothebysUS_rawImage.pkl\")"
   ]
  },
  {
   "cell_type": "code",
   "execution_count": 22,
   "id": "joined-front",
   "metadata": {},
   "outputs": [
    {
     "data": {
      "text/html": [
       "<div>\n",
       "<style scoped>\n",
       "    .dataframe tbody tr th:only-of-type {\n",
       "        vertical-align: middle;\n",
       "    }\n",
       "\n",
       "    .dataframe tbody tr th {\n",
       "        vertical-align: top;\n",
       "    }\n",
       "\n",
       "    .dataframe thead th {\n",
       "        text-align: right;\n",
       "    }\n",
       "</style>\n",
       "<table border=\"1\" class=\"dataframe\">\n",
       "  <thead>\n",
       "    <tr style=\"text-align: right;\">\n",
       "      <th></th>\n",
       "      <th>Unnamed: 0</th>\n",
       "      <th>Origin</th>\n",
       "      <th>CurrencyType</th>\n",
       "      <th>AuctionDate</th>\n",
       "      <th>LotNumber</th>\n",
       "      <th>SoldPrice</th>\n",
       "      <th>Collection</th>\n",
       "      <th>ItemTitle</th>\n",
       "      <th>EstPriceInUSD</th>\n",
       "      <th>AllText</th>\n",
       "      <th>LogSoldPrice</th>\n",
       "      <th>PriceBin</th>\n",
       "      <th>input_ids</th>\n",
       "      <th>attention_mask</th>\n",
       "      <th>PriceBin_OneHot</th>\n",
       "      <th>Image</th>\n",
       "      <th>RawImg</th>\n",
       "    </tr>\n",
       "  </thead>\n",
       "  <tbody>\n",
       "    <tr>\n",
       "      <th>0</th>\n",
       "      <td>1</td>\n",
       "      <td>Louis Hayet</td>\n",
       "      <td>USD</td>\n",
       "      <td>2015-01-30T10:00:00.935-0500</td>\n",
       "      <td>582</td>\n",
       "      <td>28125</td>\n",
       "      <td>N09303</td>\n",
       "      <td>LE CONCERT, TOGETHER WITH THREE OTHER WORKS</td>\n",
       "      <td>28125</td>\n",
       "      <td>gouache on paper moun...</td>\n",
       "      <td>10.244414</td>\n",
       "      <td>1</td>\n",
       "      <td>[101, 2175, 6692, 5403, 2006, 3259, 5614, 2006...</td>\n",
       "      <td>[1, 1, 1, 1, 1, 1, 1, 1, 1, 1, 1, 1, 1, 1, 1, ...</td>\n",
       "      <td>[0.0, 1.0, 0.0]</td>\n",
       "      <td>N09303_582</td>\n",
       "      <td>[[[86.0, 68.0, 64.0], [100.0, 82.0, 78.0], [11...</td>\n",
       "    </tr>\n",
       "    <tr>\n",
       "      <th>1</th>\n",
       "      <td>2</td>\n",
       "      <td>A light chestnut velvet-upholstered Knole sofa...</td>\n",
       "      <td>USD</td>\n",
       "      <td>2015-10-17T10:00:00.852-0400</td>\n",
       "      <td>807</td>\n",
       "      <td>5000</td>\n",
       "      <td>N09408</td>\n",
       "      <td>NaN</td>\n",
       "      <td>5000</td>\n",
       "      <td>height 45 1/2  in.; l...</td>\n",
       "      <td>8.517193</td>\n",
       "      <td>0</td>\n",
       "      <td>[101, 4578, 3429, 1015, 1013, 1016, 1999, 1012...</td>\n",
       "      <td>[1, 1, 1, 1, 1, 1, 1, 1, 1, 1, 1, 1, 1, 1, 1, ...</td>\n",
       "      <td>[1.0, 0.0, 0.0]</td>\n",
       "      <td>N09408_807</td>\n",
       "      <td>[[[254.0, 252.0, 255.0], [255.0, 254.0, 255.0]...</td>\n",
       "    </tr>\n",
       "  </tbody>\n",
       "</table>\n",
       "</div>"
      ],
      "text/plain": [
       "   Unnamed: 0                                             Origin CurrencyType  \\\n",
       "0           1                                        Louis Hayet          USD   \n",
       "1           2  A light chestnut velvet-upholstered Knole sofa...          USD   \n",
       "\n",
       "                    AuctionDate LotNumber  SoldPrice Collection  \\\n",
       "0  2015-01-30T10:00:00.935-0500       582      28125     N09303   \n",
       "1  2015-10-17T10:00:00.852-0400       807       5000     N09408   \n",
       "\n",
       "                                     ItemTitle  EstPriceInUSD  \\\n",
       "0  LE CONCERT, TOGETHER WITH THREE OTHER WORKS          28125   \n",
       "1                                          NaN           5000   \n",
       "\n",
       "                                             AllText  LogSoldPrice  PriceBin  \\\n",
       "0                           gouache on paper moun...     10.244414         1   \n",
       "1                           height 45 1/2  in.; l...      8.517193         0   \n",
       "\n",
       "                                           input_ids  \\\n",
       "0  [101, 2175, 6692, 5403, 2006, 3259, 5614, 2006...   \n",
       "1  [101, 4578, 3429, 1015, 1013, 1016, 1999, 1012...   \n",
       "\n",
       "                                      attention_mask  PriceBin_OneHot  \\\n",
       "0  [1, 1, 1, 1, 1, 1, 1, 1, 1, 1, 1, 1, 1, 1, 1, ...  [0.0, 1.0, 0.0]   \n",
       "1  [1, 1, 1, 1, 1, 1, 1, 1, 1, 1, 1, 1, 1, 1, 1, ...  [1.0, 0.0, 0.0]   \n",
       "\n",
       "        Image                                             RawImg  \n",
       "0  N09303_582  [[[86.0, 68.0, 64.0], [100.0, 82.0, 78.0], [11...  \n",
       "1  N09408_807  [[[254.0, 252.0, 255.0], [255.0, 254.0, 255.0]...  "
      ]
     },
     "execution_count": 22,
     "metadata": {},
     "output_type": "execute_result"
    }
   ],
   "source": [
    "sothebysUS.head(2)"
   ]
  },
  {
   "cell_type": "code",
   "execution_count": 24,
   "id": "urban-disclosure",
   "metadata": {},
   "outputs": [],
   "source": [
    "img1 = sothebysUS[\"RawImg\"][0].reshape(1, 128,128,3)\n",
    "img2 = sothebysUS[\"RawImg\"][1].reshape(1,128,128,3)"
   ]
  },
  {
   "cell_type": "code",
   "execution_count": 319,
   "id": "limited-graphic",
   "metadata": {},
   "outputs": [
    {
     "data": {
      "text/plain": [
       "(128, 128, 3)"
      ]
     },
     "execution_count": 319,
     "metadata": {},
     "output_type": "execute_result"
    }
   ],
   "source": []
  },
  {
   "cell_type": "code",
   "execution_count": 292,
   "id": "virgin-contribution",
   "metadata": {},
   "outputs": [
    {
     "data": {
      "text/plain": [
       "[<tf.Tensor 'input_46_1:0' shape=(None, 128, 128, 3) dtype=float32>,\n",
       " <tf.Tensor 'input_47_1:0' shape=(None, 128, 128, 3) dtype=float32>,\n",
       " <tf.Tensor 'normalization_15_2/Identity:0' shape=(None, 128, 128, 3) dtype=float32>,\n",
       " <tf.Tensor 'conv5_block3_out_19/Identity:0' shape=(None, 4, 4, 2048) dtype=float32>,\n",
       " <tf.Tensor 'global_max_pooling2d_16_1/Identity:0' shape=(None, 2048) dtype=float32>,\n",
       " <tf.Tensor 'global_average_pooling2d_22_1/Identity:0' shape=(None, 2048) dtype=float32>,\n",
       " <tf.Tensor 'global_max_pooling2d_17_1/Identity:0' shape=(None, 2048) dtype=float32>,\n",
       " <tf.Tensor 'global_average_pooling2d_23_1/Identity:0' shape=(None, 2048) dtype=float32>,\n",
       " <tf.Tensor 'concatenate_25_1/Identity:0' shape=(None, 4096) dtype=float32>]"
      ]
     },
     "execution_count": 292,
     "metadata": {},
     "output_type": "execute_result"
    }
   ],
   "source": [
    "[layer.output for layer in sothebysSiam.layers[0:9]]"
   ]
  },
  {
   "cell_type": "code",
   "execution_count": 295,
   "id": "academic-chinese",
   "metadata": {},
   "outputs": [
    {
     "data": {
      "text/plain": [
       "[<tf.Tensor 'input_46_1:0' shape=(None, 128, 128, 3) dtype=float32>,\n",
       " <tf.Tensor 'input_47_1:0' shape=(None, 128, 128, 3) dtype=float32>]"
      ]
     },
     "execution_count": 295,
     "metadata": {},
     "output_type": "execute_result"
    }
   ],
   "source": [
    "sothebysSiam.layers[8]"
   ]
  },
  {
   "cell_type": "code",
   "execution_count": 23,
   "id": "sharing-segment",
   "metadata": {},
   "outputs": [],
   "source": [
    "siamExtractor = keras.Model(inputs=sothebysSiam.input,\n",
    "                        outputs=sothebysSiam.layers[8].output)"
   ]
  },
  {
   "cell_type": "code",
   "execution_count": 313,
   "id": "cleared-dancing",
   "metadata": {},
   "outputs": [
    {
     "name": "stdout",
     "output_type": "stream",
     "text": [
      "WARNING:tensorflow:Model was constructed with shape (None, 128, 128, 3) for input Tensor(\"input_46_1:0\", shape=(None, 128, 128, 3), dtype=float32), but it was called on an input with incompatible shape (128, 128, 3).\n",
      "WARNING:tensorflow:Model was constructed with shape (None, 128, 128, 3) for input Tensor(\"input_47_1:0\", shape=(None, 128, 128, 3), dtype=float32), but it was called on an input with incompatible shape (128, 128, 3).\n"
     ]
    }
   ],
   "source": [
    "features = siamExtractor([img1, img2])"
   ]
  },
  {
   "cell_type": "code",
   "execution_count": 314,
   "id": "diverse-hobby",
   "metadata": {},
   "outputs": [
    {
     "data": {
      "text/plain": [
       "array([[0., 0., 0., ..., 0., 0., 0.]], dtype=float32)"
      ]
     },
     "execution_count": 314,
     "metadata": {},
     "output_type": "execute_result"
    }
   ],
   "source": [
    "features.numpy()"
   ]
  },
  {
   "cell_type": "code",
   "execution_count": 25,
   "id": "wrapped-strength",
   "metadata": {},
   "outputs": [],
   "source": [
    "sothebysUS[\"SiamFeatures\"] = sothebysUS[\"RawImg\"].apply(lambda x: siamExtractor([x.reshape(1,128,128,3), img1]).numpy())"
   ]
  },
  {
   "cell_type": "code",
   "execution_count": 324,
   "id": "fluid-despite",
   "metadata": {},
   "outputs": [
    {
     "data": {
      "text/plain": [
       "<tensorflow.python.keras.layers.pooling.GlobalAveragePooling2D at 0x7fb006d3fb10>"
      ]
     },
     "execution_count": 324,
     "metadata": {},
     "output_type": "execute_result"
    }
   ],
   "source": [
    "model.layers[3]"
   ]
  },
  {
   "cell_type": "code",
   "execution_count": 26,
   "id": "burning-county",
   "metadata": {},
   "outputs": [],
   "source": [
    "cnnExtractor = keras.Model(inputs=model.input,\n",
    "                        outputs=model.layers[3].output)"
   ]
  },
  {
   "cell_type": "code",
   "execution_count": 27,
   "id": "secondary-sheep",
   "metadata": {},
   "outputs": [],
   "source": [
    "sothebysUS[\"cnnFeatures\"] = sothebysUS[\"RawImg\"].apply(lambda x: cnnExtractor(x.reshape(1,128,128,3)).numpy())"
   ]
  },
  {
   "cell_type": "code",
   "execution_count": 28,
   "id": "liable-airplane",
   "metadata": {},
   "outputs": [],
   "source": [
    "sothebysUS_noRawImg = sothebysUS.drop(\"RawImg\", axis=1)"
   ]
  },
  {
   "cell_type": "code",
   "execution_count": 29,
   "id": "funky-coaching",
   "metadata": {},
   "outputs": [],
   "source": [
    "sothebysUS_noRawImg.to_pickle(\"./sothebysUS_noRawImg.pkl\")"
   ]
  },
  {
   "cell_type": "code",
   "execution_count": null,
   "id": "educated-cruise",
   "metadata": {},
   "outputs": [],
   "source": []
  },
  {
   "cell_type": "code",
   "execution_count": 2,
   "id": "neither-wiring",
   "metadata": {},
   "outputs": [],
   "source": [
    "import pandas as pd\n",
    "sothebysUS = pd.read_pickle(\"./sothebysUS_noRawImg.pkl\")"
   ]
  },
  {
   "cell_type": "code",
   "execution_count": 3,
   "id": "applicable-regular",
   "metadata": {},
   "outputs": [
    {
     "data": {
      "text/html": [
       "<div>\n",
       "<style scoped>\n",
       "    .dataframe tbody tr th:only-of-type {\n",
       "        vertical-align: middle;\n",
       "    }\n",
       "\n",
       "    .dataframe tbody tr th {\n",
       "        vertical-align: top;\n",
       "    }\n",
       "\n",
       "    .dataframe thead th {\n",
       "        text-align: right;\n",
       "    }\n",
       "</style>\n",
       "<table border=\"1\" class=\"dataframe\">\n",
       "  <thead>\n",
       "    <tr style=\"text-align: right;\">\n",
       "      <th></th>\n",
       "      <th>Unnamed: 0</th>\n",
       "      <th>Origin</th>\n",
       "      <th>CurrencyType</th>\n",
       "      <th>AuctionDate</th>\n",
       "      <th>LotNumber</th>\n",
       "      <th>SoldPrice</th>\n",
       "      <th>Collection</th>\n",
       "      <th>ItemTitle</th>\n",
       "      <th>EstPriceInUSD</th>\n",
       "      <th>AllText</th>\n",
       "      <th>LogSoldPrice</th>\n",
       "      <th>PriceBin</th>\n",
       "      <th>input_ids</th>\n",
       "      <th>attention_mask</th>\n",
       "      <th>PriceBin_OneHot</th>\n",
       "      <th>Image</th>\n",
       "      <th>SiamFeatures</th>\n",
       "      <th>cnnFeatures</th>\n",
       "    </tr>\n",
       "  </thead>\n",
       "  <tbody>\n",
       "    <tr>\n",
       "      <th>0</th>\n",
       "      <td>1</td>\n",
       "      <td>Louis Hayet</td>\n",
       "      <td>USD</td>\n",
       "      <td>2015-01-30T10:00:00.935-0500</td>\n",
       "      <td>582</td>\n",
       "      <td>28125</td>\n",
       "      <td>N09303</td>\n",
       "      <td>LE CONCERT, TOGETHER WITH THREE OTHER WORKS</td>\n",
       "      <td>28125</td>\n",
       "      <td>gouache on paper moun...</td>\n",
       "      <td>10.244414</td>\n",
       "      <td>1</td>\n",
       "      <td>[101, 2175, 6692, 5403, 2006, 3259, 5614, 2006...</td>\n",
       "      <td>[1, 1, 1, 1, 1, 1, 1, 1, 1, 1, 1, 1, 1, 1, 1, ...</td>\n",
       "      <td>[0.0, 1.0, 0.0]</td>\n",
       "      <td>N09303_582</td>\n",
       "      <td>[[0.0, 0.0, 0.0, 0.0, 0.0, 0.16779256, 0.0, 0....</td>\n",
       "      <td>[[0.0, 0.0, 0.0, 0.0, 0.0, 0.0, 0.0, 0.0, 0.0,...</td>\n",
       "    </tr>\n",
       "    <tr>\n",
       "      <th>1</th>\n",
       "      <td>2</td>\n",
       "      <td>A light chestnut velvet-upholstered Knole sofa...</td>\n",
       "      <td>USD</td>\n",
       "      <td>2015-10-17T10:00:00.852-0400</td>\n",
       "      <td>807</td>\n",
       "      <td>5000</td>\n",
       "      <td>N09408</td>\n",
       "      <td>NaN</td>\n",
       "      <td>5000</td>\n",
       "      <td>height 45 1/2  in.; l...</td>\n",
       "      <td>8.517193</td>\n",
       "      <td>0</td>\n",
       "      <td>[101, 4578, 3429, 1015, 1013, 1016, 1999, 1012...</td>\n",
       "      <td>[1, 1, 1, 1, 1, 1, 1, 1, 1, 1, 1, 1, 1, 1, 1, ...</td>\n",
       "      <td>[1.0, 0.0, 0.0]</td>\n",
       "      <td>N09408_807</td>\n",
       "      <td>[[0.0, 0.0, 0.21109672, 0.0, 0.0, 0.0, 0.0, 1....</td>\n",
       "      <td>[[0.0, 0.0, 0.0, 0.0, 0.0, 0.0, 0.0, 0.0, 0.0,...</td>\n",
       "    </tr>\n",
       "  </tbody>\n",
       "</table>\n",
       "</div>"
      ],
      "text/plain": [
       "   Unnamed: 0                                             Origin CurrencyType  \\\n",
       "0           1                                        Louis Hayet          USD   \n",
       "1           2  A light chestnut velvet-upholstered Knole sofa...          USD   \n",
       "\n",
       "                    AuctionDate LotNumber  SoldPrice Collection  \\\n",
       "0  2015-01-30T10:00:00.935-0500       582      28125     N09303   \n",
       "1  2015-10-17T10:00:00.852-0400       807       5000     N09408   \n",
       "\n",
       "                                     ItemTitle  EstPriceInUSD  \\\n",
       "0  LE CONCERT, TOGETHER WITH THREE OTHER WORKS          28125   \n",
       "1                                          NaN           5000   \n",
       "\n",
       "                                             AllText  LogSoldPrice  PriceBin  \\\n",
       "0                           gouache on paper moun...     10.244414         1   \n",
       "1                           height 45 1/2  in.; l...      8.517193         0   \n",
       "\n",
       "                                           input_ids  \\\n",
       "0  [101, 2175, 6692, 5403, 2006, 3259, 5614, 2006...   \n",
       "1  [101, 4578, 3429, 1015, 1013, 1016, 1999, 1012...   \n",
       "\n",
       "                                      attention_mask  PriceBin_OneHot  \\\n",
       "0  [1, 1, 1, 1, 1, 1, 1, 1, 1, 1, 1, 1, 1, 1, 1, ...  [0.0, 1.0, 0.0]   \n",
       "1  [1, 1, 1, 1, 1, 1, 1, 1, 1, 1, 1, 1, 1, 1, 1, ...  [1.0, 0.0, 0.0]   \n",
       "\n",
       "        Image                                       SiamFeatures  \\\n",
       "0  N09303_582  [[0.0, 0.0, 0.0, 0.0, 0.0, 0.16779256, 0.0, 0....   \n",
       "1  N09408_807  [[0.0, 0.0, 0.21109672, 0.0, 0.0, 0.0, 0.0, 1....   \n",
       "\n",
       "                                         cnnFeatures  \n",
       "0  [[0.0, 0.0, 0.0, 0.0, 0.0, 0.0, 0.0, 0.0, 0.0,...  \n",
       "1  [[0.0, 0.0, 0.0, 0.0, 0.0, 0.0, 0.0, 0.0, 0.0,...  "
      ]
     },
     "execution_count": 3,
     "metadata": {},
     "output_type": "execute_result"
    }
   ],
   "source": [
    "sothebysUS.head(2)"
   ]
  },
  {
   "cell_type": "code",
   "execution_count": 7,
   "id": "reduced-canon",
   "metadata": {},
   "outputs": [],
   "source": [
    "import numpy as np\n",
    "cnnMatrix = np.array(sothebysUS[\"cnnFeatures\"].to_list())"
   ]
  },
  {
   "cell_type": "code",
   "execution_count": 12,
   "id": "expected-desire",
   "metadata": {},
   "outputs": [],
   "source": [
    "cnnMatrix = cnnMatrix.reshape(-1,2048)"
   ]
  },
  {
   "cell_type": "code",
   "execution_count": 27,
   "id": "quantitative-oliver",
   "metadata": {},
   "outputs": [],
   "source": [
    "from sklearn.preprocessing import StandardScaler\n",
    "scaler = StandardScaler()\n",
    "cnnMatrix = scaler.fit_transform(cnnMatrix)"
   ]
  },
  {
   "cell_type": "code",
   "execution_count": 28,
   "id": "demographic-hungary",
   "metadata": {},
   "outputs": [],
   "source": [
    "from sklearn.model_selection import train_test_split\n",
    "\n",
    "X_train, X_test, y_train, y_test = train_test_split(cnnMatrix, \n",
    "                                                    sothebysUS[\"LogSoldPrice\"], \n",
    "                                                    test_size=0.2, \n",
    "                                                    random_state=42)\n"
   ]
  },
  {
   "cell_type": "code",
   "execution_count": 29,
   "id": "approved-jimmy",
   "metadata": {},
   "outputs": [
    {
     "name": "stderr",
     "output_type": "stream",
     "text": [
      "/home/binli/enter/envs/ml/lib/python3.7/site-packages/sklearn/linear_model/_ridge.py:148: LinAlgWarning: Ill-conditioned matrix (rcond=5.86515e-10): result may not be accurate.\n",
      "  overwrite_a=True).T\n",
      "/home/binli/enter/envs/ml/lib/python3.7/site-packages/sklearn/linear_model/_ridge.py:148: LinAlgWarning: Ill-conditioned matrix (rcond=5.89564e-09): result may not be accurate.\n",
      "  overwrite_a=True).T\n",
      "/home/binli/enter/envs/ml/lib/python3.7/site-packages/sklearn/linear_model/_ridge.py:148: LinAlgWarning: Ill-conditioned matrix (rcond=4.02961e-08): result may not be accurate.\n",
      "  overwrite_a=True).T\n"
     ]
    }
   ],
   "source": [
    "from sklearn.linear_model import RidgeCV\n",
    "cnnRidge = RidgeCV(alphas=[1e-3, 1e-2, 1e-1, 1, 5, 10], cv=10).fit(X_train, y_train)"
   ]
  },
  {
   "cell_type": "code",
   "execution_count": 30,
   "id": "associate-storage",
   "metadata": {},
   "outputs": [],
   "source": [
    "X_train, X_test, y_train, y_test = train_test_split(sothebysUS[[\"SiamFeatures\",\"cnnFeatures\"]], \n",
    "                                                    sothebysUS[\"LogSoldPrice\"], \n",
    "                                                    test_size=0.2, \n",
    "                                                    random_state=42)"
   ]
  },
  {
   "cell_type": "code",
   "execution_count": 34,
   "id": "coordinate-spiritual",
   "metadata": {},
   "outputs": [
    {
     "data": {
      "text/plain": [
       "(41319, 4096)"
      ]
     },
     "execution_count": 34,
     "metadata": {},
     "output_type": "execute_result"
    }
   ],
   "source": []
  },
  {
   "cell_type": "code",
   "execution_count": 31,
   "id": "ahead-trance",
   "metadata": {},
   "outputs": [],
   "source": [
    "siamMatrix = np.array(X_train[\"SiamFeatures\"].to_list())"
   ]
  },
  {
   "cell_type": "code",
   "execution_count": 33,
   "id": "everyday-gravity",
   "metadata": {},
   "outputs": [],
   "source": [
    "siamMatrix = siamMatrix.reshape(-1,4096)"
   ]
  },
  {
   "cell_type": "code",
   "execution_count": 35,
   "id": "unlikely-exhibit",
   "metadata": {},
   "outputs": [],
   "source": [
    "siamMatrix = scaler.fit_transform(siamMatrix)"
   ]
  },
  {
   "cell_type": "code",
   "execution_count": 36,
   "id": "understood-stuart",
   "metadata": {},
   "outputs": [
    {
     "name": "stderr",
     "output_type": "stream",
     "text": [
      "/home/binli/enter/envs/ml/lib/python3.7/site-packages/sklearn/linear_model/_ridge.py:148: LinAlgWarning: Ill-conditioned matrix (rcond=4.02437e-09): result may not be accurate.\n",
      "  overwrite_a=True).T\n",
      "/home/binli/enter/envs/ml/lib/python3.7/site-packages/sklearn/linear_model/_ridge.py:148: LinAlgWarning: Ill-conditioned matrix (rcond=4.31179e-09): result may not be accurate.\n",
      "  overwrite_a=True).T\n",
      "/home/binli/enter/envs/ml/lib/python3.7/site-packages/sklearn/linear_model/_ridge.py:148: LinAlgWarning: Ill-conditioned matrix (rcond=7.94054e-09): result may not be accurate.\n",
      "  overwrite_a=True).T\n",
      "/home/binli/enter/envs/ml/lib/python3.7/site-packages/sklearn/linear_model/_ridge.py:148: LinAlgWarning: Ill-conditioned matrix (rcond=3.95353e-08): result may not be accurate.\n",
      "  overwrite_a=True).T\n"
     ]
    }
   ],
   "source": [
    "siamRidge = RidgeCV(alphas=[1e-3, 1e-2, 1e-1, 1, 5, 10], cv=10).fit(siamMatrix, y_train)"
   ]
  },
  {
   "cell_type": "code",
   "execution_count": 37,
   "id": "seeing-evidence",
   "metadata": {},
   "outputs": [],
   "source": [
    "siamcnnMatrix = np.array(X_train[\"cnnFeatures\"].to_list())"
   ]
  },
  {
   "cell_type": "code",
   "execution_count": 39,
   "id": "departmental-nowhere",
   "metadata": {},
   "outputs": [],
   "source": [
    "siamcnnMatrix = siamcnnMatrix.reshape(-1,2048)"
   ]
  },
  {
   "cell_type": "code",
   "execution_count": 46,
   "id": "disturbed-metallic",
   "metadata": {},
   "outputs": [],
   "source": [
    "siamcnnMatrix = np.append(siamcnnMatrix, np.array(X_train[\"SiamFeatures\"].to_list()).reshape(-1,4096), axis=1)"
   ]
  },
  {
   "cell_type": "code",
   "execution_count": 48,
   "id": "nonprofit-state",
   "metadata": {},
   "outputs": [],
   "source": [
    "siamcnnMatrix = scaler.fit_transform(siamcnnMatrix)"
   ]
  },
  {
   "cell_type": "code",
   "execution_count": null,
   "id": "fitted-concrete",
   "metadata": {},
   "outputs": [],
   "source": [
    "siamcnnRidge = RidgeCV(alphas=[1e-3, 1e-2, 1e-1, 1, 5, 10], cv=10).fit(siamcnnMatrix, y_train)"
   ]
  },
  {
   "cell_type": "code",
   "execution_count": null,
   "id": "flexible-relative",
   "metadata": {},
   "outputs": [],
   "source": []
  }
 ],
 "metadata": {
  "kernelspec": {
   "display_name": "ml",
   "language": "python",
   "name": "ml"
  },
  "language_info": {
   "codemirror_mode": {
    "name": "ipython",
    "version": 3
   },
   "file_extension": ".py",
   "mimetype": "text/x-python",
   "name": "python",
   "nbconvert_exporter": "python",
   "pygments_lexer": "ipython3",
   "version": "3.7.10"
  }
 },
 "nbformat": 4,
 "nbformat_minor": 5
}
